{
 "cells": [
  {
   "cell_type": "markdown",
   "metadata": {},
   "source": [
    "# Лабораторная табота №1 - Попова Анастасия\n",
    "\n",
    "**с помощью `Pandas` и `Scikit-learn`,**\n",
    "**а также `numpy` и `matplotlib`**\n",
    "\n",
    "- `numpy` – матричные операции\n",
    "- `matplotlib` – научная графика\n",
    "- `pandas` – таблицы (DataFrame) для анализа данных\n",
    "- `scikit-learn` – алгоритмы машинного обучения\n",
    "\n"
   ]
  },
  {
   "cell_type": "code",
   "execution_count": 1,
   "metadata": {
    "collapsed": true
   },
   "outputs": [],
   "source": [
    "import numpy as np\n",
    "import matplotlib.pyplot as plt\n",
    "import pandas as pd\n",
    "import seaborn as sns\n",
    "%matplotlib inline"
   ]
  },
  {
   "cell_type": "markdown",
   "metadata": {},
   "source": [
    "Описание признаков:\n",
    "\n",
    "    1.  region-centroid-col:  the column of the center pixel of the region.\n",
    "    2.  region-centroid-row:  the row of the center pixel of the region.\n",
    "    3.  region-pixel-count:  the number of pixels in a region = 9.\n",
    "    4.  short-line-density-5:  the results of a line extractoin algorithm that \n",
    "         counts how many lines of length 5 (any orientation) with\n",
    "         low contrast, less than or equal to 5, go through the region.\n",
    "    5.  short-line-density-2:  same as short-line-density-5 but counts lines\n",
    "         of high contrast, greater than 5.\n",
    "    6.  vedge-mean:  measure the contrast of horizontally\n",
    "         adjacent pixels in the region.  There are 6, the mean and \n",
    "         standard deviation are given.  This attribute is used as\n",
    "        a vertical edge detector.\n",
    "    7.  vegde-sd:  (see 6)\n",
    "    8.  hedge-mean:  measures the contrast of vertically adjacent\n",
    "          pixels. Used for horizontal line detection. \n",
    "    9.  hedge-sd: (see 8).\n",
    "    10. intensity-mean:  the average over the region of (R + G + B)/3\n",
    "    11. rawred-mean: the average over the region of the R value.\n",
    "    12. rawblue-mean: the average over the region of the B value.\n",
    "    13. rawgreen-mean: the average over the region of the G value.\n",
    "    14. exred-mean: measure the excess red:  (2R - (G + B))\n",
    "    15. exblue-mean: measure the excess blue:  (2B - (G + R))\n",
    "    16. exgreen-mean: measure the excess green:  (2G - (R + B))\n",
    "    17. value-mean:  3-d nonlinear transformation\n",
    "         of RGB. (Algorithm can be found in Foley and VanDam, Fundamentals\n",
    "         of Interactive Computer Graphics)\n",
    "    18. saturatoin-mean:  (see 17)\n",
    "    19. hue-mean:  (see 17)\n",
    "\n",
    "8. Missing Attribute Values: None\n",
    "\n",
    "9. Class Distribution: \n",
    "\n",
    "   Classes:  brickface, sky, foliage, cement, window, path, grass.\n",
    "\n"
   ]
  },
  {
   "cell_type": "code",
   "execution_count": 2,
   "metadata": {},
   "outputs": [
    {
     "data": {
      "text/html": [
       "<div>\n",
       "<style>\n",
       "    .dataframe thead tr:only-child th {\n",
       "        text-align: right;\n",
       "    }\n",
       "\n",
       "    .dataframe thead th {\n",
       "        text-align: left;\n",
       "    }\n",
       "\n",
       "    .dataframe tbody tr th {\n",
       "        vertical-align: top;\n",
       "    }\n",
       "</style>\n",
       "<table border=\"1\" class=\"dataframe\">\n",
       "  <thead>\n",
       "    <tr style=\"text-align: right;\">\n",
       "      <th></th>\n",
       "      <th>LABEL</th>\n",
       "      <th>REGION-CENTROID-COL</th>\n",
       "      <th>REGION-CENTROID-ROW</th>\n",
       "      <th>REGION-PIXEL-COUNT</th>\n",
       "      <th>SHORT-LINE-DENSITY-5</th>\n",
       "      <th>SHORT-LINE-DENSITY-2</th>\n",
       "      <th>VEDGE-MEAN</th>\n",
       "      <th>VEDGE-SD</th>\n",
       "      <th>HEDGE-MEAN</th>\n",
       "      <th>HEDGE-SD</th>\n",
       "      <th>INTENSITY-MEAN</th>\n",
       "      <th>RAWRED-MEAN</th>\n",
       "      <th>RAWBLUE-MEAN</th>\n",
       "      <th>RAWGREEN-MEAN</th>\n",
       "      <th>EXRED-MEAN</th>\n",
       "      <th>EXBLUE-MEAN</th>\n",
       "      <th>EXGREEN-MEAN</th>\n",
       "      <th>VALUE-MEAN</th>\n",
       "      <th>SATURATION-MEAN</th>\n",
       "      <th>HUE-MEAN</th>\n",
       "    </tr>\n",
       "  </thead>\n",
       "  <tbody>\n",
       "    <tr>\n",
       "      <th>0</th>\n",
       "      <td>BRICKFACE</td>\n",
       "      <td>140.0</td>\n",
       "      <td>125.0</td>\n",
       "      <td>9</td>\n",
       "      <td>0.0</td>\n",
       "      <td>0.0</td>\n",
       "      <td>0.277778</td>\n",
       "      <td>0.062963</td>\n",
       "      <td>0.666667</td>\n",
       "      <td>0.311111</td>\n",
       "      <td>6.185185</td>\n",
       "      <td>7.333334</td>\n",
       "      <td>7.666666</td>\n",
       "      <td>3.555556</td>\n",
       "      <td>3.444444</td>\n",
       "      <td>4.444445</td>\n",
       "      <td>-7.888889</td>\n",
       "      <td>7.777778</td>\n",
       "      <td>0.545635</td>\n",
       "      <td>-1.121818</td>\n",
       "    </tr>\n",
       "    <tr>\n",
       "      <th>1</th>\n",
       "      <td>BRICKFACE</td>\n",
       "      <td>188.0</td>\n",
       "      <td>133.0</td>\n",
       "      <td>9</td>\n",
       "      <td>0.0</td>\n",
       "      <td>0.0</td>\n",
       "      <td>0.333333</td>\n",
       "      <td>0.266667</td>\n",
       "      <td>0.500000</td>\n",
       "      <td>0.077778</td>\n",
       "      <td>6.666666</td>\n",
       "      <td>8.333334</td>\n",
       "      <td>7.777778</td>\n",
       "      <td>3.888889</td>\n",
       "      <td>5.000000</td>\n",
       "      <td>3.333333</td>\n",
       "      <td>-8.333333</td>\n",
       "      <td>8.444445</td>\n",
       "      <td>0.538580</td>\n",
       "      <td>-0.924817</td>\n",
       "    </tr>\n",
       "    <tr>\n",
       "      <th>2</th>\n",
       "      <td>BRICKFACE</td>\n",
       "      <td>105.0</td>\n",
       "      <td>139.0</td>\n",
       "      <td>9</td>\n",
       "      <td>0.0</td>\n",
       "      <td>0.0</td>\n",
       "      <td>0.277778</td>\n",
       "      <td>0.107407</td>\n",
       "      <td>0.833333</td>\n",
       "      <td>0.522222</td>\n",
       "      <td>6.111111</td>\n",
       "      <td>7.555555</td>\n",
       "      <td>7.222222</td>\n",
       "      <td>3.555556</td>\n",
       "      <td>4.333334</td>\n",
       "      <td>3.333333</td>\n",
       "      <td>-7.666666</td>\n",
       "      <td>7.555555</td>\n",
       "      <td>0.532628</td>\n",
       "      <td>-0.965946</td>\n",
       "    </tr>\n",
       "  </tbody>\n",
       "</table>\n",
       "</div>"
      ],
      "text/plain": [
       "       LABEL  REGION-CENTROID-COL  REGION-CENTROID-ROW  REGION-PIXEL-COUNT  \\\n",
       "0  BRICKFACE                140.0                125.0                   9   \n",
       "1  BRICKFACE                188.0                133.0                   9   \n",
       "2  BRICKFACE                105.0                139.0                   9   \n",
       "\n",
       "   SHORT-LINE-DENSITY-5  SHORT-LINE-DENSITY-2  VEDGE-MEAN  VEDGE-SD  \\\n",
       "0                   0.0                   0.0    0.277778  0.062963   \n",
       "1                   0.0                   0.0    0.333333  0.266667   \n",
       "2                   0.0                   0.0    0.277778  0.107407   \n",
       "\n",
       "   HEDGE-MEAN  HEDGE-SD  INTENSITY-MEAN  RAWRED-MEAN  RAWBLUE-MEAN  \\\n",
       "0    0.666667  0.311111        6.185185     7.333334      7.666666   \n",
       "1    0.500000  0.077778        6.666666     8.333334      7.777778   \n",
       "2    0.833333  0.522222        6.111111     7.555555      7.222222   \n",
       "\n",
       "   RAWGREEN-MEAN  EXRED-MEAN  EXBLUE-MEAN  EXGREEN-MEAN  VALUE-MEAN  \\\n",
       "0       3.555556    3.444444     4.444445     -7.888889    7.777778   \n",
       "1       3.888889    5.000000     3.333333     -8.333333    8.444445   \n",
       "2       3.555556    4.333334     3.333333     -7.666666    7.555555   \n",
       "\n",
       "   SATURATION-MEAN  HUE-MEAN  \n",
       "0         0.545635 -1.121818  \n",
       "1         0.538580 -0.924817  \n",
       "2         0.532628 -0.965946  "
      ]
     },
     "execution_count": 2,
     "metadata": {},
     "output_type": "execute_result"
    }
   ],
   "source": [
    "#здесь была проблема с чтением, поэтому в файле пришлось подписать LABEL\n",
    "data = pd.read_csv('segmentation.data', sep = ',', engine = 'python', header=1, skiprows = 1)\n",
    "data.head(3)"
   ]
  },
  {
   "cell_type": "code",
   "execution_count": 3,
   "metadata": {},
   "outputs": [
    {
     "name": "stdout",
     "output_type": "stream",
     "text": [
      "(210, 20)\n",
      "Index([u'LABEL', u'REGION-CENTROID-COL', u'REGION-CENTROID-ROW',\n",
      "       u'REGION-PIXEL-COUNT', u'SHORT-LINE-DENSITY-5', u'SHORT-LINE-DENSITY-2',\n",
      "       u'VEDGE-MEAN', u'VEDGE-SD', u'HEDGE-MEAN', u'HEDGE-SD',\n",
      "       u'INTENSITY-MEAN', u'RAWRED-MEAN', u'RAWBLUE-MEAN', u'RAWGREEN-MEAN',\n",
      "       u'EXRED-MEAN', u'EXBLUE-MEAN', u'EXGREEN-MEAN', u'VALUE-MEAN',\n",
      "       u'SATURATION-MEAN', u'HUE-MEAN'],\n",
      "      dtype='object')\n"
     ]
    }
   ],
   "source": [
    "print(data.shape)\n",
    "print(data.columns)"
   ]
  },
  {
   "cell_type": "code",
   "execution_count": 4,
   "metadata": {},
   "outputs": [
    {
     "data": {
      "text/html": [
       "<div>\n",
       "<style>\n",
       "    .dataframe thead tr:only-child th {\n",
       "        text-align: right;\n",
       "    }\n",
       "\n",
       "    .dataframe thead th {\n",
       "        text-align: left;\n",
       "    }\n",
       "\n",
       "    .dataframe tbody tr th {\n",
       "        vertical-align: top;\n",
       "    }\n",
       "</style>\n",
       "<table border=\"1\" class=\"dataframe\">\n",
       "  <thead>\n",
       "    <tr style=\"text-align: right;\">\n",
       "      <th></th>\n",
       "      <th>REGION-CENTROID-COL</th>\n",
       "      <th>REGION-CENTROID-ROW</th>\n",
       "      <th>REGION-PIXEL-COUNT</th>\n",
       "      <th>SHORT-LINE-DENSITY-5</th>\n",
       "      <th>SHORT-LINE-DENSITY-2</th>\n",
       "      <th>VEDGE-MEAN</th>\n",
       "      <th>VEDGE-SD</th>\n",
       "      <th>HEDGE-MEAN</th>\n",
       "      <th>HEDGE-SD</th>\n",
       "      <th>INTENSITY-MEAN</th>\n",
       "      <th>RAWRED-MEAN</th>\n",
       "      <th>RAWBLUE-MEAN</th>\n",
       "      <th>RAWGREEN-MEAN</th>\n",
       "      <th>EXRED-MEAN</th>\n",
       "      <th>EXBLUE-MEAN</th>\n",
       "      <th>EXGREEN-MEAN</th>\n",
       "      <th>VALUE-MEAN</th>\n",
       "      <th>SATURATION-MEAN</th>\n",
       "      <th>HUE-MEAN</th>\n",
       "    </tr>\n",
       "  </thead>\n",
       "  <tbody>\n",
       "    <tr>\n",
       "      <th>count</th>\n",
       "      <td>210.000000</td>\n",
       "      <td>210.000000</td>\n",
       "      <td>210.0</td>\n",
       "      <td>210.000000</td>\n",
       "      <td>210.000000</td>\n",
       "      <td>210.000000</td>\n",
       "      <td>210.000000</td>\n",
       "      <td>210.000000</td>\n",
       "      <td>210.000000</td>\n",
       "      <td>210.000000</td>\n",
       "      <td>210.000000</td>\n",
       "      <td>210.000000</td>\n",
       "      <td>210.000000</td>\n",
       "      <td>210.000000</td>\n",
       "      <td>210.000000</td>\n",
       "      <td>210.000000</td>\n",
       "      <td>210.000000</td>\n",
       "      <td>210.000000</td>\n",
       "      <td>210.000000</td>\n",
       "    </tr>\n",
       "    <tr>\n",
       "      <th>mean</th>\n",
       "      <td>124.647619</td>\n",
       "      <td>122.757143</td>\n",
       "      <td>9.0</td>\n",
       "      <td>0.008466</td>\n",
       "      <td>0.006349</td>\n",
       "      <td>1.925132</td>\n",
       "      <td>5.719529</td>\n",
       "      <td>2.604233</td>\n",
       "      <td>11.638377</td>\n",
       "      <td>37.091005</td>\n",
       "      <td>32.967725</td>\n",
       "      <td>44.011112</td>\n",
       "      <td>34.294180</td>\n",
       "      <td>-12.369841</td>\n",
       "      <td>20.760317</td>\n",
       "      <td>-8.390476</td>\n",
       "      <td>44.888360</td>\n",
       "      <td>0.423230</td>\n",
       "      <td>-1.340397</td>\n",
       "    </tr>\n",
       "    <tr>\n",
       "      <th>std</th>\n",
       "      <td>74.104024</td>\n",
       "      <td>58.139686</td>\n",
       "      <td>0.0</td>\n",
       "      <td>0.029549</td>\n",
       "      <td>0.030077</td>\n",
       "      <td>3.158211</td>\n",
       "      <td>43.495942</td>\n",
       "      <td>4.798268</td>\n",
       "      <td>97.390023</td>\n",
       "      <td>38.677168</td>\n",
       "      <td>35.540563</td>\n",
       "      <td>43.804447</td>\n",
       "      <td>37.057003</td>\n",
       "      <td>11.559599</td>\n",
       "      <td>18.761842</td>\n",
       "      <td>11.003746</td>\n",
       "      <td>43.235182</td>\n",
       "      <td>0.227333</td>\n",
       "      <td>1.559405</td>\n",
       "    </tr>\n",
       "    <tr>\n",
       "      <th>min</th>\n",
       "      <td>1.000000</td>\n",
       "      <td>11.000000</td>\n",
       "      <td>9.0</td>\n",
       "      <td>0.000000</td>\n",
       "      <td>0.000000</td>\n",
       "      <td>0.000000</td>\n",
       "      <td>0.000000</td>\n",
       "      <td>0.000000</td>\n",
       "      <td>0.000000</td>\n",
       "      <td>0.000000</td>\n",
       "      <td>0.000000</td>\n",
       "      <td>0.000000</td>\n",
       "      <td>0.000000</td>\n",
       "      <td>-48.222220</td>\n",
       "      <td>-9.666667</td>\n",
       "      <td>-30.555555</td>\n",
       "      <td>0.000000</td>\n",
       "      <td>0.000000</td>\n",
       "      <td>-2.530950</td>\n",
       "    </tr>\n",
       "    <tr>\n",
       "      <th>25%</th>\n",
       "      <td>60.500000</td>\n",
       "      <td>81.500000</td>\n",
       "      <td>9.0</td>\n",
       "      <td>0.000000</td>\n",
       "      <td>0.000000</td>\n",
       "      <td>0.666667</td>\n",
       "      <td>0.400921</td>\n",
       "      <td>0.777779</td>\n",
       "      <td>0.410816</td>\n",
       "      <td>6.453704</td>\n",
       "      <td>7.000000</td>\n",
       "      <td>8.277778</td>\n",
       "      <td>3.805555</td>\n",
       "      <td>-18.111110</td>\n",
       "      <td>4.111111</td>\n",
       "      <td>-15.750000</td>\n",
       "      <td>10.527778</td>\n",
       "      <td>0.275722</td>\n",
       "      <td>-2.187112</td>\n",
       "    </tr>\n",
       "    <tr>\n",
       "      <th>50%</th>\n",
       "      <td>123.500000</td>\n",
       "      <td>121.500000</td>\n",
       "      <td>9.0</td>\n",
       "      <td>0.000000</td>\n",
       "      <td>0.000000</td>\n",
       "      <td>1.222222</td>\n",
       "      <td>0.828695</td>\n",
       "      <td>1.388889</td>\n",
       "      <td>0.913176</td>\n",
       "      <td>21.314816</td>\n",
       "      <td>18.611112</td>\n",
       "      <td>26.833334</td>\n",
       "      <td>20.000000</td>\n",
       "      <td>-10.333333</td>\n",
       "      <td>19.555556</td>\n",
       "      <td>-9.888889</td>\n",
       "      <td>28.388890</td>\n",
       "      <td>0.365455</td>\n",
       "      <td>-2.044163</td>\n",
       "    </tr>\n",
       "    <tr>\n",
       "      <th>75%</th>\n",
       "      <td>189.750000</td>\n",
       "      <td>174.500000</td>\n",
       "      <td>9.0</td>\n",
       "      <td>0.000000</td>\n",
       "      <td>0.000000</td>\n",
       "      <td>1.888890</td>\n",
       "      <td>1.676634</td>\n",
       "      <td>2.597221</td>\n",
       "      <td>1.980485</td>\n",
       "      <td>52.629629</td>\n",
       "      <td>46.750000</td>\n",
       "      <td>64.194447</td>\n",
       "      <td>46.472223</td>\n",
       "      <td>-4.666666</td>\n",
       "      <td>34.333332</td>\n",
       "      <td>-3.722222</td>\n",
       "      <td>64.194447</td>\n",
       "      <td>0.539738</td>\n",
       "      <td>-1.429800</td>\n",
       "    </tr>\n",
       "    <tr>\n",
       "      <th>max</th>\n",
       "      <td>252.000000</td>\n",
       "      <td>250.000000</td>\n",
       "      <td>9.0</td>\n",
       "      <td>0.111111</td>\n",
       "      <td>0.222222</td>\n",
       "      <td>25.500000</td>\n",
       "      <td>572.996400</td>\n",
       "      <td>44.722225</td>\n",
       "      <td>1386.329200</td>\n",
       "      <td>143.444440</td>\n",
       "      <td>136.888890</td>\n",
       "      <td>150.888890</td>\n",
       "      <td>142.555560</td>\n",
       "      <td>5.777778</td>\n",
       "      <td>78.777780</td>\n",
       "      <td>21.888890</td>\n",
       "      <td>150.888890</td>\n",
       "      <td>1.000000</td>\n",
       "      <td>2.864931</td>\n",
       "    </tr>\n",
       "  </tbody>\n",
       "</table>\n",
       "</div>"
      ],
      "text/plain": [
       "       REGION-CENTROID-COL  REGION-CENTROID-ROW  REGION-PIXEL-COUNT  \\\n",
       "count           210.000000           210.000000               210.0   \n",
       "mean            124.647619           122.757143                 9.0   \n",
       "std              74.104024            58.139686                 0.0   \n",
       "min               1.000000            11.000000                 9.0   \n",
       "25%              60.500000            81.500000                 9.0   \n",
       "50%             123.500000           121.500000                 9.0   \n",
       "75%             189.750000           174.500000                 9.0   \n",
       "max             252.000000           250.000000                 9.0   \n",
       "\n",
       "       SHORT-LINE-DENSITY-5  SHORT-LINE-DENSITY-2  VEDGE-MEAN    VEDGE-SD  \\\n",
       "count            210.000000            210.000000  210.000000  210.000000   \n",
       "mean               0.008466              0.006349    1.925132    5.719529   \n",
       "std                0.029549              0.030077    3.158211   43.495942   \n",
       "min                0.000000              0.000000    0.000000    0.000000   \n",
       "25%                0.000000              0.000000    0.666667    0.400921   \n",
       "50%                0.000000              0.000000    1.222222    0.828695   \n",
       "75%                0.000000              0.000000    1.888890    1.676634   \n",
       "max                0.111111              0.222222   25.500000  572.996400   \n",
       "\n",
       "       HEDGE-MEAN     HEDGE-SD  INTENSITY-MEAN  RAWRED-MEAN  RAWBLUE-MEAN  \\\n",
       "count  210.000000   210.000000      210.000000   210.000000    210.000000   \n",
       "mean     2.604233    11.638377       37.091005    32.967725     44.011112   \n",
       "std      4.798268    97.390023       38.677168    35.540563     43.804447   \n",
       "min      0.000000     0.000000        0.000000     0.000000      0.000000   \n",
       "25%      0.777779     0.410816        6.453704     7.000000      8.277778   \n",
       "50%      1.388889     0.913176       21.314816    18.611112     26.833334   \n",
       "75%      2.597221     1.980485       52.629629    46.750000     64.194447   \n",
       "max     44.722225  1386.329200      143.444440   136.888890    150.888890   \n",
       "\n",
       "       RAWGREEN-MEAN  EXRED-MEAN  EXBLUE-MEAN  EXGREEN-MEAN  VALUE-MEAN  \\\n",
       "count     210.000000  210.000000   210.000000    210.000000  210.000000   \n",
       "mean       34.294180  -12.369841    20.760317     -8.390476   44.888360   \n",
       "std        37.057003   11.559599    18.761842     11.003746   43.235182   \n",
       "min         0.000000  -48.222220    -9.666667    -30.555555    0.000000   \n",
       "25%         3.805555  -18.111110     4.111111    -15.750000   10.527778   \n",
       "50%        20.000000  -10.333333    19.555556     -9.888889   28.388890   \n",
       "75%        46.472223   -4.666666    34.333332     -3.722222   64.194447   \n",
       "max       142.555560    5.777778    78.777780     21.888890  150.888890   \n",
       "\n",
       "       SATURATION-MEAN    HUE-MEAN  \n",
       "count       210.000000  210.000000  \n",
       "mean          0.423230   -1.340397  \n",
       "std           0.227333    1.559405  \n",
       "min           0.000000   -2.530950  \n",
       "25%           0.275722   -2.187112  \n",
       "50%           0.365455   -2.044163  \n",
       "75%           0.539738   -1.429800  \n",
       "max           1.000000    2.864931  "
      ]
     },
     "execution_count": 4,
     "metadata": {},
     "output_type": "execute_result"
    }
   ],
   "source": [
    "data.describe()"
   ]
  },
  {
   "cell_type": "code",
   "execution_count": 5,
   "metadata": {},
   "outputs": [
    {
     "data": {
      "text/plain": [
       "<seaborn.axisgrid.PairGrid at 0x10efbbc10>"
      ]
     },
     "execution_count": 5,
     "metadata": {},
     "output_type": "execute_result"
    },
    {
     "data": {
      "image/png": "[encoded data removed]",
      "text/plain": [
       "<matplotlib.figure.Figure at 0x10efbbf50>"
      ]
     },
     "metadata": {},
     "output_type": "display_data"
    }
   ],
   "source": [
    "# наглядно на диаграммах рассеяния первых 5 признаков не видно деления на 7 классов\n",
    "sns.pairplot(data[data.columns[:5]])"
   ]
  },
  {
   "cell_type": "code",
   "execution_count": 6,
   "metadata": {},
   "outputs": [
    {
     "data": {
      "text/html": [
       "<div>\n",
       "<style>\n",
       "    .dataframe thead tr:only-child th {\n",
       "        text-align: right;\n",
       "    }\n",
       "\n",
       "    .dataframe thead th {\n",
       "        text-align: left;\n",
       "    }\n",
       "\n",
       "    .dataframe tbody tr th {\n",
       "        vertical-align: top;\n",
       "    }\n",
       "</style>\n",
       "<table border=\"1\" class=\"dataframe\">\n",
       "  <thead>\n",
       "    <tr style=\"text-align: right;\">\n",
       "      <th></th>\n",
       "      <th>REGION-CENTROID-COL</th>\n",
       "      <th>REGION-CENTROID-ROW</th>\n",
       "      <th>REGION-PIXEL-COUNT</th>\n",
       "      <th>SHORT-LINE-DENSITY-5</th>\n",
       "      <th>SHORT-LINE-DENSITY-2</th>\n",
       "      <th>VEDGE-MEAN</th>\n",
       "      <th>VEDGE-SD</th>\n",
       "      <th>HEDGE-MEAN</th>\n",
       "      <th>HEDGE-SD</th>\n",
       "      <th>INTENSITY-MEAN</th>\n",
       "      <th>RAWRED-MEAN</th>\n",
       "      <th>RAWBLUE-MEAN</th>\n",
       "      <th>RAWGREEN-MEAN</th>\n",
       "      <th>EXRED-MEAN</th>\n",
       "      <th>EXBLUE-MEAN</th>\n",
       "      <th>EXGREEN-MEAN</th>\n",
       "      <th>VALUE-MEAN</th>\n",
       "      <th>SATURATION-MEAN</th>\n",
       "      <th>HUE-MEAN</th>\n",
       "    </tr>\n",
       "  </thead>\n",
       "  <tbody>\n",
       "    <tr>\n",
       "      <th>REGION-CENTROID-COL</th>\n",
       "      <td>1.000000</td>\n",
       "      <td>0.081868</td>\n",
       "      <td>NaN</td>\n",
       "      <td>-0.109587</td>\n",
       "      <td>-0.113007</td>\n",
       "      <td>-0.079825</td>\n",
       "      <td>-0.089668</td>\n",
       "      <td>-0.077684</td>\n",
       "      <td>-0.066815</td>\n",
       "      <td>0.012867</td>\n",
       "      <td>0.009511</td>\n",
       "      <td>0.014851</td>\n",
       "      <td>0.013613</td>\n",
       "      <td>-0.041434</td>\n",
       "      <td>0.024445</td>\n",
       "      <td>0.001847</td>\n",
       "      <td>0.016348</td>\n",
       "      <td>-0.118124</td>\n",
       "      <td>0.050728</td>\n",
       "    </tr>\n",
       "    <tr>\n",
       "      <th>REGION-CENTROID-ROW</th>\n",
       "      <td>0.081868</td>\n",
       "      <td>1.000000</td>\n",
       "      <td>NaN</td>\n",
       "      <td>0.164906</td>\n",
       "      <td>0.022168</td>\n",
       "      <td>0.012171</td>\n",
       "      <td>-0.054820</td>\n",
       "      <td>0.034361</td>\n",
       "      <td>-0.036091</td>\n",
       "      <td>-0.470674</td>\n",
       "      <td>-0.476086</td>\n",
       "      <td>-0.480821</td>\n",
       "      <td>-0.448783</td>\n",
       "      <td>0.333223</td>\n",
       "      <td>-0.456954</td>\n",
       "      <td>0.429070</td>\n",
       "      <td>-0.460577</td>\n",
       "      <td>0.064391</td>\n",
       "      <td>0.597449</td>\n",
       "    </tr>\n",
       "    <tr>\n",
       "      <th>REGION-PIXEL-COUNT</th>\n",
       "      <td>NaN</td>\n",
       "      <td>NaN</td>\n",
       "      <td>NaN</td>\n",
       "      <td>NaN</td>\n",
       "      <td>NaN</td>\n",
       "      <td>NaN</td>\n",
       "      <td>NaN</td>\n",
       "      <td>NaN</td>\n",
       "      <td>NaN</td>\n",
       "      <td>NaN</td>\n",
       "      <td>NaN</td>\n",
       "      <td>NaN</td>\n",
       "      <td>NaN</td>\n",
       "      <td>NaN</td>\n",
       "      <td>NaN</td>\n",
       "      <td>NaN</td>\n",
       "      <td>NaN</td>\n",
       "      <td>NaN</td>\n",
       "      <td>NaN</td>\n",
       "    </tr>\n",
       "    <tr>\n",
       "      <th>SHORT-LINE-DENSITY-5</th>\n",
       "      <td>-0.109587</td>\n",
       "      <td>0.164906</td>\n",
       "      <td>NaN</td>\n",
       "      <td>1.000000</td>\n",
       "      <td>0.138629</td>\n",
       "      <td>-0.024825</td>\n",
       "      <td>-0.026879</td>\n",
       "      <td>-0.020419</td>\n",
       "      <td>-0.028937</td>\n",
       "      <td>0.004147</td>\n",
       "      <td>0.001105</td>\n",
       "      <td>-0.004500</td>\n",
       "      <td>0.017243</td>\n",
       "      <td>-0.031430</td>\n",
       "      <td>-0.057163</td>\n",
       "      <td>0.130483</td>\n",
       "      <td>0.004905</td>\n",
       "      <td>-0.064482</td>\n",
       "      <td>0.222568</td>\n",
       "    </tr>\n",
       "    <tr>\n",
       "      <th>SHORT-LINE-DENSITY-2</th>\n",
       "      <td>-0.113007</td>\n",
       "      <td>0.022168</td>\n",
       "      <td>NaN</td>\n",
       "      <td>0.138629</td>\n",
       "      <td>1.000000</td>\n",
       "      <td>0.373171</td>\n",
       "      <td>0.228926</td>\n",
       "      <td>0.397129</td>\n",
       "      <td>0.243559</td>\n",
       "      <td>0.075280</td>\n",
       "      <td>0.068163</td>\n",
       "      <td>0.090468</td>\n",
       "      <td>0.063399</td>\n",
       "      <td>-0.126925</td>\n",
       "      <td>0.168103</td>\n",
       "      <td>-0.153286</td>\n",
       "      <td>0.087356</td>\n",
       "      <td>-0.085369</td>\n",
       "      <td>-0.111372</td>\n",
       "    </tr>\n",
       "    <tr>\n",
       "      <th>VEDGE-MEAN</th>\n",
       "      <td>-0.079825</td>\n",
       "      <td>0.012171</td>\n",
       "      <td>NaN</td>\n",
       "      <td>-0.024825</td>\n",
       "      <td>0.373171</td>\n",
       "      <td>1.000000</td>\n",
       "      <td>0.582832</td>\n",
       "      <td>0.669766</td>\n",
       "      <td>0.530407</td>\n",
       "      <td>0.052579</td>\n",
       "      <td>0.040889</td>\n",
       "      <td>0.067472</td>\n",
       "      <td>0.045661</td>\n",
       "      <td>-0.150631</td>\n",
       "      <td>0.147422</td>\n",
       "      <td>-0.093121</td>\n",
       "      <td>0.065380</td>\n",
       "      <td>-0.090362</td>\n",
       "      <td>-0.108552</td>\n",
       "    </tr>\n",
       "    <tr>\n",
       "      <th>VEDGE-SD</th>\n",
       "      <td>-0.089668</td>\n",
       "      <td>-0.054820</td>\n",
       "      <td>NaN</td>\n",
       "      <td>-0.026879</td>\n",
       "      <td>0.228926</td>\n",
       "      <td>0.582832</td>\n",
       "      <td>1.000000</td>\n",
       "      <td>0.617712</td>\n",
       "      <td>0.947943</td>\n",
       "      <td>0.034435</td>\n",
       "      <td>0.026446</td>\n",
       "      <td>0.038993</td>\n",
       "      <td>0.036365</td>\n",
       "      <td>-0.101717</td>\n",
       "      <td>0.060155</td>\n",
       "      <td>0.004289</td>\n",
       "      <td>0.037604</td>\n",
       "      <td>-0.012146</td>\n",
       "      <td>-0.065279</td>\n",
       "    </tr>\n",
       "    <tr>\n",
       "      <th>HEDGE-MEAN</th>\n",
       "      <td>-0.077684</td>\n",
       "      <td>0.034361</td>\n",
       "      <td>NaN</td>\n",
       "      <td>-0.020419</td>\n",
       "      <td>0.397129</td>\n",
       "      <td>0.669766</td>\n",
       "      <td>0.617712</td>\n",
       "      <td>1.000000</td>\n",
       "      <td>0.677837</td>\n",
       "      <td>0.064138</td>\n",
       "      <td>0.054864</td>\n",
       "      <td>0.071328</td>\n",
       "      <td>0.063893</td>\n",
       "      <td>-0.137752</td>\n",
       "      <td>0.102944</td>\n",
       "      <td>-0.030813</td>\n",
       "      <td>0.069890</td>\n",
       "      <td>-0.132146</td>\n",
       "      <td>-0.097004</td>\n",
       "    </tr>\n",
       "    <tr>\n",
       "      <th>HEDGE-SD</th>\n",
       "      <td>-0.066815</td>\n",
       "      <td>-0.036091</td>\n",
       "      <td>NaN</td>\n",
       "      <td>-0.028937</td>\n",
       "      <td>0.243559</td>\n",
       "      <td>0.530407</td>\n",
       "      <td>0.947943</td>\n",
       "      <td>0.677837</td>\n",
       "      <td>1.000000</td>\n",
       "      <td>0.042568</td>\n",
       "      <td>0.036780</td>\n",
       "      <td>0.045261</td>\n",
       "      <td>0.044509</td>\n",
       "      <td>-0.088038</td>\n",
       "      <td>0.053767</td>\n",
       "      <td>0.000810</td>\n",
       "      <td>0.043803</td>\n",
       "      <td>-0.035948</td>\n",
       "      <td>-0.067504</td>\n",
       "    </tr>\n",
       "    <tr>\n",
       "      <th>INTENSITY-MEAN</th>\n",
       "      <td>0.012867</td>\n",
       "      <td>-0.470674</td>\n",
       "      <td>NaN</td>\n",
       "      <td>0.004147</td>\n",
       "      <td>0.075280</td>\n",
       "      <td>0.052579</td>\n",
       "      <td>0.034435</td>\n",
       "      <td>0.064138</td>\n",
       "      <td>0.042568</td>\n",
       "      <td>1.000000</td>\n",
       "      <td>0.998178</td>\n",
       "      <td>0.996216</td>\n",
       "      <td>0.996222</td>\n",
       "      <td>-0.830831</td>\n",
       "      <td>0.793341</td>\n",
       "      <td>-0.479878</td>\n",
       "      <td>0.997570</td>\n",
       "      <td>-0.620575</td>\n",
       "      <td>-0.348347</td>\n",
       "    </tr>\n",
       "    <tr>\n",
       "      <th>RAWRED-MEAN</th>\n",
       "      <td>0.009511</td>\n",
       "      <td>-0.476086</td>\n",
       "      <td>NaN</td>\n",
       "      <td>0.001105</td>\n",
       "      <td>0.068163</td>\n",
       "      <td>0.040889</td>\n",
       "      <td>0.026446</td>\n",
       "      <td>0.054864</td>\n",
       "      <td>0.036780</td>\n",
       "      <td>0.998178</td>\n",
       "      <td>1.000000</td>\n",
       "      <td>0.991594</td>\n",
       "      <td>0.994233</td>\n",
       "      <td>-0.795738</td>\n",
       "      <td>0.772238</td>\n",
       "      <td>-0.480763</td>\n",
       "      <td>0.992567</td>\n",
       "      <td>-0.628603</td>\n",
       "      <td>-0.348591</td>\n",
       "    </tr>\n",
       "    <tr>\n",
       "      <th>RAWBLUE-MEAN</th>\n",
       "      <td>0.014851</td>\n",
       "      <td>-0.480821</td>\n",
       "      <td>NaN</td>\n",
       "      <td>-0.004500</td>\n",
       "      <td>0.090468</td>\n",
       "      <td>0.067472</td>\n",
       "      <td>0.038993</td>\n",
       "      <td>0.071328</td>\n",
       "      <td>0.045261</td>\n",
       "      <td>0.996216</td>\n",
       "      <td>0.991594</td>\n",
       "      <td>1.000000</td>\n",
       "      <td>0.986214</td>\n",
       "      <td>-0.853572</td>\n",
       "      <td>0.843250</td>\n",
       "      <td>-0.541086</td>\n",
       "      <td>0.998882</td>\n",
       "      <td>-0.608570</td>\n",
       "      <td>-0.400078</td>\n",
       "    </tr>\n",
       "    <tr>\n",
       "      <th>RAWGREEN-MEAN</th>\n",
       "      <td>0.013613</td>\n",
       "      <td>-0.448783</td>\n",
       "      <td>NaN</td>\n",
       "      <td>0.017243</td>\n",
       "      <td>0.063399</td>\n",
       "      <td>0.045661</td>\n",
       "      <td>0.036365</td>\n",
       "      <td>0.063893</td>\n",
       "      <td>0.044509</td>\n",
       "      <td>0.996222</td>\n",
       "      <td>0.994233</td>\n",
       "      <td>0.986214</td>\n",
       "      <td>1.000000</td>\n",
       "      <td>-0.829298</td>\n",
       "      <td>0.746650</td>\n",
       "      <td>-0.401879</td>\n",
       "      <td>0.990843</td>\n",
       "      <td>-0.620863</td>\n",
       "      <td>-0.283478</td>\n",
       "    </tr>\n",
       "    <tr>\n",
       "      <th>EXRED-MEAN</th>\n",
       "      <td>-0.041434</td>\n",
       "      <td>0.333223</td>\n",
       "      <td>NaN</td>\n",
       "      <td>-0.031430</td>\n",
       "      <td>-0.126925</td>\n",
       "      <td>-0.150631</td>\n",
       "      <td>-0.101717</td>\n",
       "      <td>-0.137752</td>\n",
       "      <td>-0.088038</td>\n",
       "      <td>-0.830831</td>\n",
       "      <td>-0.795738</td>\n",
       "      <td>-0.853572</td>\n",
       "      <td>-0.829298</td>\n",
       "      <td>1.000000</td>\n",
       "      <td>-0.840441</td>\n",
       "      <td>0.382472</td>\n",
       "      <td>-0.858194</td>\n",
       "      <td>0.431122</td>\n",
       "      <td>0.281308</td>\n",
       "    </tr>\n",
       "    <tr>\n",
       "      <th>EXBLUE-MEAN</th>\n",
       "      <td>0.024445</td>\n",
       "      <td>-0.456954</td>\n",
       "      <td>NaN</td>\n",
       "      <td>-0.057163</td>\n",
       "      <td>0.168103</td>\n",
       "      <td>0.147422</td>\n",
       "      <td>0.060155</td>\n",
       "      <td>0.102944</td>\n",
       "      <td>0.053767</td>\n",
       "      <td>0.793341</td>\n",
       "      <td>0.772238</td>\n",
       "      <td>0.843250</td>\n",
       "      <td>0.746650</td>\n",
       "      <td>-0.840441</td>\n",
       "      <td>1.000000</td>\n",
       "      <td>-0.822146</td>\n",
       "      <td>0.827044</td>\n",
       "      <td>-0.424689</td>\n",
       "      <td>-0.647935</td>\n",
       "    </tr>\n",
       "    <tr>\n",
       "      <th>EXGREEN-MEAN</th>\n",
       "      <td>0.001847</td>\n",
       "      <td>0.429070</td>\n",
       "      <td>NaN</td>\n",
       "      <td>0.130483</td>\n",
       "      <td>-0.153286</td>\n",
       "      <td>-0.093121</td>\n",
       "      <td>0.004289</td>\n",
       "      <td>-0.030813</td>\n",
       "      <td>0.000810</td>\n",
       "      <td>-0.479878</td>\n",
       "      <td>-0.480763</td>\n",
       "      <td>-0.541086</td>\n",
       "      <td>-0.401879</td>\n",
       "      <td>0.382472</td>\n",
       "      <td>-0.822146</td>\n",
       "      <td>1.000000</td>\n",
       "      <td>-0.508599</td>\n",
       "      <td>0.271213</td>\n",
       "      <td>0.809238</td>\n",
       "    </tr>\n",
       "    <tr>\n",
       "      <th>VALUE-MEAN</th>\n",
       "      <td>0.016348</td>\n",
       "      <td>-0.460577</td>\n",
       "      <td>NaN</td>\n",
       "      <td>0.004905</td>\n",
       "      <td>0.087356</td>\n",
       "      <td>0.065380</td>\n",
       "      <td>0.037604</td>\n",
       "      <td>0.069890</td>\n",
       "      <td>0.043803</td>\n",
       "      <td>0.997570</td>\n",
       "      <td>0.992567</td>\n",
       "      <td>0.998882</td>\n",
       "      <td>0.990843</td>\n",
       "      <td>-0.858194</td>\n",
       "      <td>0.827044</td>\n",
       "      <td>-0.508599</td>\n",
       "      <td>1.000000</td>\n",
       "      <td>-0.616115</td>\n",
       "      <td>-0.360621</td>\n",
       "    </tr>\n",
       "    <tr>\n",
       "      <th>SATURATION-MEAN</th>\n",
       "      <td>-0.118124</td>\n",
       "      <td>0.064391</td>\n",
       "      <td>NaN</td>\n",
       "      <td>-0.064482</td>\n",
       "      <td>-0.085369</td>\n",
       "      <td>-0.090362</td>\n",
       "      <td>-0.012146</td>\n",
       "      <td>-0.132146</td>\n",
       "      <td>-0.035948</td>\n",
       "      <td>-0.620575</td>\n",
       "      <td>-0.628603</td>\n",
       "      <td>-0.608570</td>\n",
       "      <td>-0.620863</td>\n",
       "      <td>0.431122</td>\n",
       "      <td>-0.424689</td>\n",
       "      <td>0.271213</td>\n",
       "      <td>-0.616115</td>\n",
       "      <td>1.000000</td>\n",
       "      <td>-0.053088</td>\n",
       "    </tr>\n",
       "    <tr>\n",
       "      <th>HUE-MEAN</th>\n",
       "      <td>0.050728</td>\n",
       "      <td>0.597449</td>\n",
       "      <td>NaN</td>\n",
       "      <td>0.222568</td>\n",
       "      <td>-0.111372</td>\n",
       "      <td>-0.108552</td>\n",
       "      <td>-0.065279</td>\n",
       "      <td>-0.097004</td>\n",
       "      <td>-0.067504</td>\n",
       "      <td>-0.348347</td>\n",
       "      <td>-0.348591</td>\n",
       "      <td>-0.400078</td>\n",
       "      <td>-0.283478</td>\n",
       "      <td>0.281308</td>\n",
       "      <td>-0.647935</td>\n",
       "      <td>0.809238</td>\n",
       "      <td>-0.360621</td>\n",
       "      <td>-0.053088</td>\n",
       "      <td>1.000000</td>\n",
       "    </tr>\n",
       "  </tbody>\n",
       "</table>\n",
       "</div>"
      ],
      "text/plain": [
       "                      REGION-CENTROID-COL  REGION-CENTROID-ROW  \\\n",
       "REGION-CENTROID-COL              1.000000             0.081868   \n",
       "REGION-CENTROID-ROW              0.081868             1.000000   \n",
       "REGION-PIXEL-COUNT                    NaN                  NaN   \n",
       "SHORT-LINE-DENSITY-5            -0.109587             0.164906   \n",
       "SHORT-LINE-DENSITY-2            -0.113007             0.022168   \n",
       "VEDGE-MEAN                      -0.079825             0.012171   \n",
       "VEDGE-SD                        -0.089668            -0.054820   \n",
       "HEDGE-MEAN                      -0.077684             0.034361   \n",
       "HEDGE-SD                        -0.066815            -0.036091   \n",
       "INTENSITY-MEAN                   0.012867            -0.470674   \n",
       "RAWRED-MEAN                      0.009511            -0.476086   \n",
       "RAWBLUE-MEAN                     0.014851            -0.480821   \n",
       "RAWGREEN-MEAN                    0.013613            -0.448783   \n",
       "EXRED-MEAN                      -0.041434             0.333223   \n",
       "EXBLUE-MEAN                      0.024445            -0.456954   \n",
       "EXGREEN-MEAN                     0.001847             0.429070   \n",
       "VALUE-MEAN                       0.016348            -0.460577   \n",
       "SATURATION-MEAN                 -0.118124             0.064391   \n",
       "HUE-MEAN                         0.050728             0.597449   \n",
       "\n",
       "                      REGION-PIXEL-COUNT  SHORT-LINE-DENSITY-5  \\\n",
       "REGION-CENTROID-COL                  NaN             -0.109587   \n",
       "REGION-CENTROID-ROW                  NaN              0.164906   \n",
       "REGION-PIXEL-COUNT                   NaN                   NaN   \n",
       "SHORT-LINE-DENSITY-5                 NaN              1.000000   \n",
       "SHORT-LINE-DENSITY-2                 NaN              0.138629   \n",
       "VEDGE-MEAN                           NaN             -0.024825   \n",
       "VEDGE-SD                             NaN             -0.026879   \n",
       "HEDGE-MEAN                           NaN             -0.020419   \n",
       "HEDGE-SD                             NaN             -0.028937   \n",
       "INTENSITY-MEAN                       NaN              0.004147   \n",
       "RAWRED-MEAN                          NaN              0.001105   \n",
       "RAWBLUE-MEAN                         NaN             -0.004500   \n",
       "RAWGREEN-MEAN                        NaN              0.017243   \n",
       "EXRED-MEAN                           NaN             -0.031430   \n",
       "EXBLUE-MEAN                          NaN             -0.057163   \n",
       "EXGREEN-MEAN                         NaN              0.130483   \n",
       "VALUE-MEAN                           NaN              0.004905   \n",
       "SATURATION-MEAN                      NaN             -0.064482   \n",
       "HUE-MEAN                             NaN              0.222568   \n",
       "\n",
       "                      SHORT-LINE-DENSITY-2  VEDGE-MEAN  VEDGE-SD  HEDGE-MEAN  \\\n",
       "REGION-CENTROID-COL              -0.113007   -0.079825 -0.089668   -0.077684   \n",
       "REGION-CENTROID-ROW               0.022168    0.012171 -0.054820    0.034361   \n",
       "REGION-PIXEL-COUNT                     NaN         NaN       NaN         NaN   \n",
       "SHORT-LINE-DENSITY-5              0.138629   -0.024825 -0.026879   -0.020419   \n",
       "SHORT-LINE-DENSITY-2              1.000000    0.373171  0.228926    0.397129   \n",
       "VEDGE-MEAN                        0.373171    1.000000  0.582832    0.669766   \n",
       "VEDGE-SD                          0.228926    0.582832  1.000000    0.617712   \n",
       "HEDGE-MEAN                        0.397129    0.669766  0.617712    1.000000   \n",
       "HEDGE-SD                          0.243559    0.530407  0.947943    0.677837   \n",
       "INTENSITY-MEAN                    0.075280    0.052579  0.034435    0.064138   \n",
       "RAWRED-MEAN                       0.068163    0.040889  0.026446    0.054864   \n",
       "RAWBLUE-MEAN                      0.090468    0.067472  0.038993    0.071328   \n",
       "RAWGREEN-MEAN                     0.063399    0.045661  0.036365    0.063893   \n",
       "EXRED-MEAN                       -0.126925   -0.150631 -0.101717   -0.137752   \n",
       "EXBLUE-MEAN                       0.168103    0.147422  0.060155    0.102944   \n",
       "EXGREEN-MEAN                     -0.153286   -0.093121  0.004289   -0.030813   \n",
       "VALUE-MEAN                        0.087356    0.065380  0.037604    0.069890   \n",
       "SATURATION-MEAN                  -0.085369   -0.090362 -0.012146   -0.132146   \n",
       "HUE-MEAN                         -0.111372   -0.108552 -0.065279   -0.097004   \n",
       "\n",
       "                      HEDGE-SD  INTENSITY-MEAN  RAWRED-MEAN  RAWBLUE-MEAN  \\\n",
       "REGION-CENTROID-COL  -0.066815        0.012867     0.009511      0.014851   \n",
       "REGION-CENTROID-ROW  -0.036091       -0.470674    -0.476086     -0.480821   \n",
       "REGION-PIXEL-COUNT         NaN             NaN          NaN           NaN   \n",
       "SHORT-LINE-DENSITY-5 -0.028937        0.004147     0.001105     -0.004500   \n",
       "SHORT-LINE-DENSITY-2  0.243559        0.075280     0.068163      0.090468   \n",
       "VEDGE-MEAN            0.530407        0.052579     0.040889      0.067472   \n",
       "VEDGE-SD              0.947943        0.034435     0.026446      0.038993   \n",
       "HEDGE-MEAN            0.677837        0.064138     0.054864      0.071328   \n",
       "HEDGE-SD              1.000000        0.042568     0.036780      0.045261   \n",
       "INTENSITY-MEAN        0.042568        1.000000     0.998178      0.996216   \n",
       "RAWRED-MEAN           0.036780        0.998178     1.000000      0.991594   \n",
       "RAWBLUE-MEAN          0.045261        0.996216     0.991594      1.000000   \n",
       "RAWGREEN-MEAN         0.044509        0.996222     0.994233      0.986214   \n",
       "EXRED-MEAN           -0.088038       -0.830831    -0.795738     -0.853572   \n",
       "EXBLUE-MEAN           0.053767        0.793341     0.772238      0.843250   \n",
       "EXGREEN-MEAN          0.000810       -0.479878    -0.480763     -0.541086   \n",
       "VALUE-MEAN            0.043803        0.997570     0.992567      0.998882   \n",
       "SATURATION-MEAN      -0.035948       -0.620575    -0.628603     -0.608570   \n",
       "HUE-MEAN             -0.067504       -0.348347    -0.348591     -0.400078   \n",
       "\n",
       "                      RAWGREEN-MEAN  EXRED-MEAN  EXBLUE-MEAN  EXGREEN-MEAN  \\\n",
       "REGION-CENTROID-COL        0.013613   -0.041434     0.024445      0.001847   \n",
       "REGION-CENTROID-ROW       -0.448783    0.333223    -0.456954      0.429070   \n",
       "REGION-PIXEL-COUNT              NaN         NaN          NaN           NaN   \n",
       "SHORT-LINE-DENSITY-5       0.017243   -0.031430    -0.057163      0.130483   \n",
       "SHORT-LINE-DENSITY-2       0.063399   -0.126925     0.168103     -0.153286   \n",
       "VEDGE-MEAN                 0.045661   -0.150631     0.147422     -0.093121   \n",
       "VEDGE-SD                   0.036365   -0.101717     0.060155      0.004289   \n",
       "HEDGE-MEAN                 0.063893   -0.137752     0.102944     -0.030813   \n",
       "HEDGE-SD                   0.044509   -0.088038     0.053767      0.000810   \n",
       "INTENSITY-MEAN             0.996222   -0.830831     0.793341     -0.479878   \n",
       "RAWRED-MEAN                0.994233   -0.795738     0.772238     -0.480763   \n",
       "RAWBLUE-MEAN               0.986214   -0.853572     0.843250     -0.541086   \n",
       "RAWGREEN-MEAN              1.000000   -0.829298     0.746650     -0.401879   \n",
       "EXRED-MEAN                -0.829298    1.000000    -0.840441      0.382472   \n",
       "EXBLUE-MEAN                0.746650   -0.840441     1.000000     -0.822146   \n",
       "EXGREEN-MEAN              -0.401879    0.382472    -0.822146      1.000000   \n",
       "VALUE-MEAN                 0.990843   -0.858194     0.827044     -0.508599   \n",
       "SATURATION-MEAN           -0.620863    0.431122    -0.424689      0.271213   \n",
       "HUE-MEAN                  -0.283478    0.281308    -0.647935      0.809238   \n",
       "\n",
       "                      VALUE-MEAN  SATURATION-MEAN  HUE-MEAN  \n",
       "REGION-CENTROID-COL     0.016348        -0.118124  0.050728  \n",
       "REGION-CENTROID-ROW    -0.460577         0.064391  0.597449  \n",
       "REGION-PIXEL-COUNT           NaN              NaN       NaN  \n",
       "SHORT-LINE-DENSITY-5    0.004905        -0.064482  0.222568  \n",
       "SHORT-LINE-DENSITY-2    0.087356        -0.085369 -0.111372  \n",
       "VEDGE-MEAN              0.065380        -0.090362 -0.108552  \n",
       "VEDGE-SD                0.037604        -0.012146 -0.065279  \n",
       "HEDGE-MEAN              0.069890        -0.132146 -0.097004  \n",
       "HEDGE-SD                0.043803        -0.035948 -0.067504  \n",
       "INTENSITY-MEAN          0.997570        -0.620575 -0.348347  \n",
       "RAWRED-MEAN             0.992567        -0.628603 -0.348591  \n",
       "RAWBLUE-MEAN            0.998882        -0.608570 -0.400078  \n",
       "RAWGREEN-MEAN           0.990843        -0.620863 -0.283478  \n",
       "EXRED-MEAN             -0.858194         0.431122  0.281308  \n",
       "EXBLUE-MEAN             0.827044        -0.424689 -0.647935  \n",
       "EXGREEN-MEAN           -0.508599         0.271213  0.809238  \n",
       "VALUE-MEAN              1.000000        -0.616115 -0.360621  \n",
       "SATURATION-MEAN        -0.616115         1.000000 -0.053088  \n",
       "HUE-MEAN               -0.360621        -0.053088  1.000000  "
      ]
     },
     "execution_count": 6,
     "metadata": {},
     "output_type": "execute_result"
    }
   ],
   "source": [
    "data.corr()"
   ]
  },
  {
   "cell_type": "code",
   "execution_count": 7,
   "metadata": {},
   "outputs": [
    {
     "data": {
      "text/plain": [
       "<matplotlib.axes._subplots.AxesSubplot at 0x1124eead0>"
      ]
     },
     "execution_count": 7,
     "metadata": {},
     "output_type": "execute_result"
    },
    {
     "data": {
      "image/png": "[encoded data removed]",
      "text/plain": [
       "<matplotlib.figure.Figure at 0x112441e90>"
      ]
     },
     "metadata": {},
     "output_type": "display_data"
    }
   ],
   "source": [
    "# видно, что признаки сильно кореллированны и с этим необходимо бороться\n",
    "\n",
    "sns.heatmap(data.corr())"
   ]
  },
  {
   "cell_type": "code",
   "execution_count": 9,
   "metadata": {},
   "outputs": [
    {
     "data": {
      "text/html": [
       "<script>requirejs.config({paths: { 'plotly': ['https://cdn.plot.ly/plotly-latest.min']},});if(!window.Plotly) {{require(['plotly'],function(plotly) {window.Plotly=plotly;});}}</script>"
      ],
      "text/vnd.plotly.v1+html": [
       "<script>requirejs.config({paths: { 'plotly': ['https://cdn.plot.ly/plotly-latest.min']},});if(!window.Plotly) {{require(['plotly'],function(plotly) {window.Plotly=plotly;});}}</script>"
      ]
     },
     "metadata": {},
     "output_type": "display_data"
    },
    {
     "data": {
      "application/vnd.plotly.v1+json": {
       "data": [
        {
         "type": "heatmap",
         "x": [
          "LABEL",
          "REGION-CENTROID-COL",
          "REGION-CENTROID-ROW",
          "REGION-PIXEL-COUNT",
          "SHORT-LINE-DENSITY-5",
          "SHORT-LINE-DENSITY-2",
          "VEDGE-MEAN",
          "VEDGE-SD",
          "HEDGE-MEAN",
          "HEDGE-SD",
          "INTENSITY-MEAN",
          "RAWRED-MEAN",
          "RAWBLUE-MEAN",
          "RAWGREEN-MEAN",
          "EXRED-MEAN",
          "EXBLUE-MEAN",
          "EXGREEN-MEAN",
          "VALUE-MEAN",
          "SATURATION-MEAN",
          "HUE-MEAN"
         ],
         "y": [
          "LABEL",
          "REGION-CENTROID-COL",
          "REGION-CENTROID-ROW",
          "REGION-PIXEL-COUNT",
          "SHORT-LINE-DENSITY-5",
          "SHORT-LINE-DENSITY-2",
          "VEDGE-MEAN",
          "VEDGE-SD",
          "HEDGE-MEAN",
          "HEDGE-SD",
          "INTENSITY-MEAN",
          "RAWRED-MEAN",
          "RAWBLUE-MEAN",
          "RAWGREEN-MEAN",
          "EXRED-MEAN",
          "EXBLUE-MEAN",
          "EXGREEN-MEAN",
          "VALUE-MEAN",
          "SATURATION-MEAN",
          "HUE-MEAN"
         ],
         "z": [
          [
           1,
           0.08186776941654558,
           null,
           -0.10958692968788805,
           -0.11300705587376923,
           -0.07982533361560405,
           -0.08966766234741347,
           -0.07768442234008299,
           -0.0668152944573403,
           0.012867201295595777,
           0.009510624297389214,
           0.014851141311016435,
           0.013612577247631447,
           -0.0414341069756639,
           0.02444524560575394,
           0.0018469977219699944,
           0.016348299152698625,
           -0.11812372155609129,
           0.050728334419367936
          ],
          [
           0.08186776941654558,
           1,
           null,
           0.16490622395743246,
           0.02216758750504429,
           0.012170915737898549,
           -0.05482045567642563,
           0.034361312994278366,
           -0.036090894644330324,
           -0.47067406539635,
           -0.47608602446283965,
           -0.48082123148395883,
           -0.44878281673939663,
           0.3332229333560885,
           -0.45695430696095324,
           0.42907033816177326,
           -0.46057708303030187,
           0.0643911333740474,
           0.5974488637995597
          ],
          [
           null,
           null,
           null,
           null,
           null,
           null,
           null,
           null,
           null,
           null,
           null,
           null,
           null,
           null,
           null,
           null,
           null,
           null,
           null
          ],
          [
           -0.10958692968788805,
           0.16490622395743246,
           null,
           1,
           0.1386293650770686,
           -0.024824993307877234,
           -0.0268787775695272,
           -0.020418742997025764,
           -0.02893713697803069,
           0.0041467491999412544,
           0.0011051466635246606,
           -0.004499784852601579,
           0.01724334084547526,
           -0.031430240343304265,
           -0.05716311100918687,
           0.1304833918090463,
           0.004904715767042356,
           -0.06448228974831023,
           0.22256813638487252
          ],
          [
           -0.11300705587376923,
           0.02216758750504429,
           null,
           0.1386293650770686,
           1,
           0.37317117833002994,
           0.22892598190950442,
           0.39712932050066596,
           0.243558999964465,
           0.0752796177910251,
           0.06816254273081311,
           0.09046818672745452,
           0.06339863065639705,
           -0.12692496087962454,
           0.16810287125663104,
           -0.15328579488516159,
           0.08735562279733737,
           -0.08536929091160322,
           -0.11137192895250086
          ],
          [
           -0.07982533361560405,
           0.012170915737898549,
           null,
           -0.024824993307877234,
           0.37317117833002994,
           1,
           0.5828316449933425,
           0.6697659136823911,
           0.530406844569368,
           0.05257933391628202,
           0.04088876731088574,
           0.06747235085442344,
           0.04566102214771055,
           -0.15063067456709367,
           0.14742200454330373,
           -0.09312084386446783,
           0.06538039220789187,
           -0.09036186619896239,
           -0.10855203423881676
          ],
          [
           -0.08966766234741347,
           -0.05482045567642563,
           null,
           -0.0268787775695272,
           0.22892598190950442,
           0.5828316449933425,
           1,
           0.6177115789392121,
           0.9479429172616908,
           0.03443496144979288,
           0.026446178702559643,
           0.0389926489886799,
           0.036365000900969856,
           -0.10171677995943483,
           0.06015472452666985,
           0.004288700743723139,
           0.037604471090900385,
           -0.01214559482147289,
           -0.06527915212228523
          ],
          [
           -0.07768442234008299,
           0.034361312994278366,
           null,
           -0.020418742997025764,
           0.39712932050066596,
           0.6697659136823911,
           0.6177115789392121,
           1,
           0.6778370845359083,
           0.06413831272745962,
           0.05486411604719858,
           0.07132824919359668,
           0.0638926260126388,
           -0.13775226382355935,
           0.10294401845214189,
           -0.030813006311760625,
           0.06989044457344175,
           -0.13214640561259786,
           -0.09700350801639596
          ],
          [
           -0.0668152944573403,
           -0.036090894644330324,
           null,
           -0.02893713697803069,
           0.243558999964465,
           0.530406844569368,
           0.9479429172616908,
           0.6778370845359083,
           1,
           0.04256759615702273,
           0.03677960184636318,
           0.04526137928444994,
           0.044508888210489456,
           -0.0880376701665224,
           0.053766911044123775,
           0.0008100786917132846,
           0.043802918046788604,
           -0.03594822424765208,
           -0.06750380079542882
          ],
          [
           0.012867201295595777,
           -0.47067406539635,
           null,
           0.0041467491999412544,
           0.0752796177910251,
           0.05257933391628202,
           0.03443496144979288,
           0.06413831272745962,
           0.04256759615702273,
           1,
           0.9981780776343058,
           0.9962157270762283,
           0.9962223640540483,
           -0.8308308200189992,
           0.7933405834448438,
           -0.47987835512158805,
           0.9975698398631881,
           -0.620575483795378,
           -0.34834656772061295
          ],
          [
           0.009510624297389214,
           -0.47608602446283965,
           null,
           0.0011051466635246606,
           0.06816254273081311,
           0.04088876731088574,
           0.026446178702559643,
           0.05486411604719858,
           0.03677960184636318,
           0.9981780776343058,
           1,
           0.9915942770459992,
           0.9942332018438514,
           -0.7957381881218434,
           0.7722381836406879,
           -0.48076322321618364,
           0.9925667797305328,
           -0.6286029488289665,
           -0.3485910680495576
          ],
          [
           0.014851141311016435,
           -0.48082123148395883,
           null,
           -0.004499784852601579,
           0.09046818672745452,
           0.06747235085442344,
           0.0389926489886799,
           0.07132824919359668,
           0.04526137928444994,
           0.9962157270762283,
           0.9915942770459992,
           1,
           0.9862142424579222,
           -0.8535721755839952,
           0.8432503383627686,
           -0.5410864180940794,
           0.9988818809036177,
           -0.6085703331151454,
           -0.40007833588472547
          ],
          [
           0.013612577247631447,
           -0.44878281673939663,
           null,
           0.01724334084547526,
           0.06339863065639705,
           0.04566102214771055,
           0.036365000900969856,
           0.0638926260126388,
           0.044508888210489456,
           0.9962223640540483,
           0.9942332018438514,
           0.9862142424579222,
           1,
           -0.8292982923679154,
           0.7466498724391538,
           -0.4018787056174133,
           0.990843193317256,
           -0.6208628820357447,
           -0.28347794972276885
          ],
          [
           -0.0414341069756639,
           0.3332229333560885,
           null,
           -0.031430240343304265,
           -0.12692496087962454,
           -0.15063067456709367,
           -0.10171677995943483,
           -0.13775226382355935,
           -0.0880376701665224,
           -0.8308308200189992,
           -0.7957381881218434,
           -0.8535721755839952,
           -0.8292982923679154,
           1,
           -0.8404409706373923,
           0.38247171971801347,
           -0.8581942969052521,
           0.431122074282113,
           0.2813079792284775
          ],
          [
           0.02444524560575394,
           -0.45695430696095324,
           null,
           -0.05716311100918687,
           0.16810287125663104,
           0.14742200454330373,
           0.06015472452666985,
           0.10294401845214189,
           0.053766911044123775,
           0.7933405834448438,
           0.7722381836406879,
           0.8432503383627686,
           0.7466498724391538,
           -0.8404409706373923,
           1,
           -0.8221455967767819,
           0.8270442793489913,
           -0.4246892556137027,
           -0.6479349965289091
          ],
          [
           0.0018469977219699944,
           0.42907033816177326,
           null,
           0.1304833918090463,
           -0.15328579488516159,
           -0.09312084386446783,
           0.004288700743723139,
           -0.030813006311760625,
           0.0008100786917132846,
           -0.47987835512158805,
           -0.48076322321618364,
           -0.5410864180940794,
           -0.4018787056174133,
           0.38247171971801347,
           -0.8221455967767819,
           1,
           -0.5085988099799705,
           0.27121258680165566,
           0.8092377452480419
          ],
          [
           0.016348299152698625,
           -0.46057708303030187,
           null,
           0.004904715767042356,
           0.08735562279733737,
           0.06538039220789187,
           0.037604471090900385,
           0.06989044457344175,
           0.043802918046788604,
           0.9975698398631881,
           0.9925667797305328,
           0.9988818809036177,
           0.990843193317256,
           -0.8581942969052521,
           0.8270442793489913,
           -0.5085988099799705,
           1,
           -0.6161152910121694,
           -0.3606214527869944
          ],
          [
           -0.11812372155609129,
           0.0643911333740474,
           null,
           -0.06448228974831023,
           -0.08536929091160322,
           -0.09036186619896239,
           -0.01214559482147289,
           -0.13214640561259786,
           -0.03594822424765208,
           -0.620575483795378,
           -0.6286029488289665,
           -0.6085703331151454,
           -0.6208628820357447,
           0.431122074282113,
           -0.4246892556137027,
           0.27121258680165566,
           -0.6161152910121694,
           1,
           -0.05308805933076958
          ],
          [
           0.050728334419367936,
           0.5974488637995597,
           null,
           0.22256813638487252,
           -0.11137192895250086,
           -0.10855203423881676,
           -0.06527915212228523,
           -0.09700350801639596,
           -0.06750380079542882,
           -0.34834656772061295,
           -0.3485910680495576,
           -0.40007833588472547,
           -0.28347794972276885,
           0.2813079792284775,
           -0.6479349965289091,
           0.8092377452480419,
           -0.3606214527869944,
           -0.05308805933076958,
           1
          ]
         ]
        }
       ],
       "layout": {}
      },
      "text/html": [
       "<div id=\"1381ccfd-b4cd-41ae-88ac-2145b4281f5f\" style=\"height: 525px; width: 100%;\" class=\"plotly-graph-div\"></div><script type=\"text/javascript\">require([\"plotly\"], function(Plotly) { window.PLOTLYENV=window.PLOTLYENV || {};window.PLOTLYENV.BASE_URL=\"https://plot.ly\";Plotly.newPlot(\"1381ccfd-b4cd-41ae-88ac-2145b4281f5f\", [{\"y\": [\"LABEL\", \"REGION-CENTROID-COL\", \"REGION-CENTROID-ROW\", \"REGION-PIXEL-COUNT\", \"SHORT-LINE-DENSITY-5\", \"SHORT-LINE-DENSITY-2\", \"VEDGE-MEAN\", \"VEDGE-SD\", \"HEDGE-MEAN\", \"HEDGE-SD\", \"INTENSITY-MEAN\", \"RAWRED-MEAN\", \"RAWBLUE-MEAN\", \"RAWGREEN-MEAN\", \"EXRED-MEAN\", \"EXBLUE-MEAN\", \"EXGREEN-MEAN\", \"VALUE-MEAN\", \"SATURATION-MEAN\", \"HUE-MEAN\"], \"x\": [\"LABEL\", \"REGION-CENTROID-COL\", \"REGION-CENTROID-ROW\", \"REGION-PIXEL-COUNT\", \"SHORT-LINE-DENSITY-5\", \"SHORT-LINE-DENSITY-2\", \"VEDGE-MEAN\", \"VEDGE-SD\", \"HEDGE-MEAN\", \"HEDGE-SD\", \"INTENSITY-MEAN\", \"RAWRED-MEAN\", \"RAWBLUE-MEAN\", \"RAWGREEN-MEAN\", \"EXRED-MEAN\", \"EXBLUE-MEAN\", \"EXGREEN-MEAN\", \"VALUE-MEAN\", \"SATURATION-MEAN\", \"HUE-MEAN\"], \"z\": [[1.0, 0.08186776941654558, null, -0.10958692968788805, -0.11300705587376923, -0.07982533361560405, -0.08966766234741347, -0.07768442234008299, -0.0668152944573403, 0.012867201295595777, 0.009510624297389214, 0.014851141311016435, 0.013612577247631447, -0.0414341069756639, 0.02444524560575394, 0.0018469977219699944, 0.016348299152698625, -0.11812372155609129, 0.050728334419367936], [0.08186776941654558, 1.0, null, 0.16490622395743246, 0.02216758750504429, 0.012170915737898549, -0.05482045567642563, 0.034361312994278366, -0.036090894644330324, -0.47067406539635, -0.47608602446283965, -0.48082123148395883, -0.44878281673939663, 0.3332229333560885, -0.45695430696095324, 0.42907033816177326, -0.46057708303030187, 0.0643911333740474, 0.5974488637995597], [null, null, null, null, null, null, null, null, null, null, null, null, null, null, null, null, null, null, null], [-0.10958692968788805, 0.16490622395743246, null, 1.0, 0.1386293650770686, -0.024824993307877234, -0.0268787775695272, -0.020418742997025764, -0.02893713697803069, 0.0041467491999412544, 0.0011051466635246606, -0.004499784852601579, 0.01724334084547526, -0.031430240343304265, -0.05716311100918687, 0.1304833918090463, 0.004904715767042356, -0.06448228974831023, 0.22256813638487252], [-0.11300705587376923, 0.02216758750504429, null, 0.1386293650770686, 1.0, 0.37317117833002994, 0.22892598190950442, 0.39712932050066596, 0.243558999964465, 0.0752796177910251, 0.06816254273081311, 0.09046818672745452, 0.06339863065639705, -0.12692496087962454, 0.16810287125663104, -0.15328579488516159, 0.08735562279733737, -0.08536929091160322, -0.11137192895250086], [-0.07982533361560405, 0.012170915737898549, null, -0.024824993307877234, 0.37317117833002994, 1.0, 0.5828316449933425, 0.6697659136823911, 0.530406844569368, 0.05257933391628202, 0.04088876731088574, 0.06747235085442344, 0.04566102214771055, -0.15063067456709367, 0.14742200454330373, -0.09312084386446783, 0.06538039220789187, -0.09036186619896239, -0.10855203423881676], [-0.08966766234741347, -0.05482045567642563, null, -0.0268787775695272, 0.22892598190950442, 0.5828316449933425, 1.0, 0.6177115789392121, 0.9479429172616908, 0.03443496144979288, 0.026446178702559643, 0.0389926489886799, 0.036365000900969856, -0.10171677995943483, 0.06015472452666985, 0.004288700743723139, 0.037604471090900385, -0.01214559482147289, -0.06527915212228523], [-0.07768442234008299, 0.034361312994278366, null, -0.020418742997025764, 0.39712932050066596, 0.6697659136823911, 0.6177115789392121, 1.0, 0.6778370845359083, 0.06413831272745962, 0.05486411604719858, 0.07132824919359668, 0.0638926260126388, -0.13775226382355935, 0.10294401845214189, -0.030813006311760625, 0.06989044457344175, -0.13214640561259786, -0.09700350801639596], [-0.0668152944573403, -0.036090894644330324, null, -0.02893713697803069, 0.243558999964465, 0.530406844569368, 0.9479429172616908, 0.6778370845359083, 1.0, 0.04256759615702273, 0.03677960184636318, 0.04526137928444994, 0.044508888210489456, -0.0880376701665224, 0.053766911044123775, 0.0008100786917132846, 0.043802918046788604, -0.03594822424765208, -0.06750380079542882], [0.012867201295595777, -0.47067406539635, null, 0.0041467491999412544, 0.0752796177910251, 0.05257933391628202, 0.03443496144979288, 0.06413831272745962, 0.04256759615702273, 1.0, 0.9981780776343058, 0.9962157270762283, 0.9962223640540483, -0.8308308200189992, 0.7933405834448438, -0.47987835512158805, 0.9975698398631881, -0.620575483795378, -0.34834656772061295], [0.009510624297389214, -0.47608602446283965, null, 0.0011051466635246606, 0.06816254273081311, 0.04088876731088574, 0.026446178702559643, 0.05486411604719858, 0.03677960184636318, 0.9981780776343058, 1.0, 0.9915942770459992, 0.9942332018438514, -0.7957381881218434, 0.7722381836406879, -0.48076322321618364, 0.9925667797305328, -0.6286029488289665, -0.3485910680495576], [0.014851141311016435, -0.48082123148395883, null, -0.004499784852601579, 0.09046818672745452, 0.06747235085442344, 0.0389926489886799, 0.07132824919359668, 0.04526137928444994, 0.9962157270762283, 0.9915942770459992, 1.0, 0.9862142424579222, -0.8535721755839952, 0.8432503383627686, -0.5410864180940794, 0.9988818809036177, -0.6085703331151454, -0.40007833588472547], [0.013612577247631447, -0.44878281673939663, null, 0.01724334084547526, 0.06339863065639705, 0.04566102214771055, 0.036365000900969856, 0.0638926260126388, 0.044508888210489456, 0.9962223640540483, 0.9942332018438514, 0.9862142424579222, 1.0, -0.8292982923679154, 0.7466498724391538, -0.4018787056174133, 0.990843193317256, -0.6208628820357447, -0.28347794972276885], [-0.0414341069756639, 0.3332229333560885, null, -0.031430240343304265, -0.12692496087962454, -0.15063067456709367, -0.10171677995943483, -0.13775226382355935, -0.0880376701665224, -0.8308308200189992, -0.7957381881218434, -0.8535721755839952, -0.8292982923679154, 1.0, -0.8404409706373923, 0.38247171971801347, -0.8581942969052521, 0.431122074282113, 0.2813079792284775], [0.02444524560575394, -0.45695430696095324, null, -0.05716311100918687, 0.16810287125663104, 0.14742200454330373, 0.06015472452666985, 0.10294401845214189, 0.053766911044123775, 0.7933405834448438, 0.7722381836406879, 0.8432503383627686, 0.7466498724391538, -0.8404409706373923, 1.0, -0.8221455967767819, 0.8270442793489913, -0.4246892556137027, -0.6479349965289091], [0.0018469977219699944, 0.42907033816177326, null, 0.1304833918090463, -0.15328579488516159, -0.09312084386446783, 0.004288700743723139, -0.030813006311760625, 0.0008100786917132846, -0.47987835512158805, -0.48076322321618364, -0.5410864180940794, -0.4018787056174133, 0.38247171971801347, -0.8221455967767819, 1.0, -0.5085988099799705, 0.27121258680165566, 0.8092377452480419], [0.016348299152698625, -0.46057708303030187, null, 0.004904715767042356, 0.08735562279733737, 0.06538039220789187, 0.037604471090900385, 0.06989044457344175, 0.043802918046788604, 0.9975698398631881, 0.9925667797305328, 0.9988818809036177, 0.990843193317256, -0.8581942969052521, 0.8270442793489913, -0.5085988099799705, 1.0, -0.6161152910121694, -0.3606214527869944], [-0.11812372155609129, 0.0643911333740474, null, -0.06448228974831023, -0.08536929091160322, -0.09036186619896239, -0.01214559482147289, -0.13214640561259786, -0.03594822424765208, -0.620575483795378, -0.6286029488289665, -0.6085703331151454, -0.6208628820357447, 0.431122074282113, -0.4246892556137027, 0.27121258680165566, -0.6161152910121694, 1.0, -0.05308805933076958], [0.050728334419367936, 0.5974488637995597, null, 0.22256813638487252, -0.11137192895250086, -0.10855203423881676, -0.06527915212228523, -0.09700350801639596, -0.06750380079542882, -0.34834656772061295, -0.3485910680495576, -0.40007833588472547, -0.28347794972276885, 0.2813079792284775, -0.6479349965289091, 0.8092377452480419, -0.3606214527869944, -0.05308805933076958, 1.0]], \"type\": \"heatmap\"}], {}, {\"linkText\": \"Export to plot.ly\", \"showLink\": true})});</script>"
      ],
      "text/vnd.plotly.v1+html": [
       "<div id=\"1381ccfd-b4cd-41ae-88ac-2145b4281f5f\" style=\"height: 525px; width: 100%;\" class=\"plotly-graph-div\"></div><script type=\"text/javascript\">require([\"plotly\"], function(Plotly) { window.PLOTLYENV=window.PLOTLYENV || {};window.PLOTLYENV.BASE_URL=\"https://plot.ly\";Plotly.newPlot(\"1381ccfd-b4cd-41ae-88ac-2145b4281f5f\", [{\"y\": [\"LABEL\", \"REGION-CENTROID-COL\", \"REGION-CENTROID-ROW\", \"REGION-PIXEL-COUNT\", \"SHORT-LINE-DENSITY-5\", \"SHORT-LINE-DENSITY-2\", \"VEDGE-MEAN\", \"VEDGE-SD\", \"HEDGE-MEAN\", \"HEDGE-SD\", \"INTENSITY-MEAN\", \"RAWRED-MEAN\", \"RAWBLUE-MEAN\", \"RAWGREEN-MEAN\", \"EXRED-MEAN\", \"EXBLUE-MEAN\", \"EXGREEN-MEAN\", \"VALUE-MEAN\", \"SATURATION-MEAN\", \"HUE-MEAN\"], \"x\": [\"LABEL\", \"REGION-CENTROID-COL\", \"REGION-CENTROID-ROW\", \"REGION-PIXEL-COUNT\", \"SHORT-LINE-DENSITY-5\", \"SHORT-LINE-DENSITY-2\", \"VEDGE-MEAN\", \"VEDGE-SD\", \"HEDGE-MEAN\", \"HEDGE-SD\", \"INTENSITY-MEAN\", \"RAWRED-MEAN\", \"RAWBLUE-MEAN\", \"RAWGREEN-MEAN\", \"EXRED-MEAN\", \"EXBLUE-MEAN\", \"EXGREEN-MEAN\", \"VALUE-MEAN\", \"SATURATION-MEAN\", \"HUE-MEAN\"], \"z\": [[1.0, 0.08186776941654558, null, -0.10958692968788805, -0.11300705587376923, -0.07982533361560405, -0.08966766234741347, -0.07768442234008299, -0.0668152944573403, 0.012867201295595777, 0.009510624297389214, 0.014851141311016435, 0.013612577247631447, -0.0414341069756639, 0.02444524560575394, 0.0018469977219699944, 0.016348299152698625, -0.11812372155609129, 0.050728334419367936], [0.08186776941654558, 1.0, null, 0.16490622395743246, 0.02216758750504429, 0.012170915737898549, -0.05482045567642563, 0.034361312994278366, -0.036090894644330324, -0.47067406539635, -0.47608602446283965, -0.48082123148395883, -0.44878281673939663, 0.3332229333560885, -0.45695430696095324, 0.42907033816177326, -0.46057708303030187, 0.0643911333740474, 0.5974488637995597], [null, null, null, null, null, null, null, null, null, null, null, null, null, null, null, null, null, null, null], [-0.10958692968788805, 0.16490622395743246, null, 1.0, 0.1386293650770686, -0.024824993307877234, -0.0268787775695272, -0.020418742997025764, -0.02893713697803069, 0.0041467491999412544, 0.0011051466635246606, -0.004499784852601579, 0.01724334084547526, -0.031430240343304265, -0.05716311100918687, 0.1304833918090463, 0.004904715767042356, -0.06448228974831023, 0.22256813638487252], [-0.11300705587376923, 0.02216758750504429, null, 0.1386293650770686, 1.0, 0.37317117833002994, 0.22892598190950442, 0.39712932050066596, 0.243558999964465, 0.0752796177910251, 0.06816254273081311, 0.09046818672745452, 0.06339863065639705, -0.12692496087962454, 0.16810287125663104, -0.15328579488516159, 0.08735562279733737, -0.08536929091160322, -0.11137192895250086], [-0.07982533361560405, 0.012170915737898549, null, -0.024824993307877234, 0.37317117833002994, 1.0, 0.5828316449933425, 0.6697659136823911, 0.530406844569368, 0.05257933391628202, 0.04088876731088574, 0.06747235085442344, 0.04566102214771055, -0.15063067456709367, 0.14742200454330373, -0.09312084386446783, 0.06538039220789187, -0.09036186619896239, -0.10855203423881676], [-0.08966766234741347, -0.05482045567642563, null, -0.0268787775695272, 0.22892598190950442, 0.5828316449933425, 1.0, 0.6177115789392121, 0.9479429172616908, 0.03443496144979288, 0.026446178702559643, 0.0389926489886799, 0.036365000900969856, -0.10171677995943483, 0.06015472452666985, 0.004288700743723139, 0.037604471090900385, -0.01214559482147289, -0.06527915212228523], [-0.07768442234008299, 0.034361312994278366, null, -0.020418742997025764, 0.39712932050066596, 0.6697659136823911, 0.6177115789392121, 1.0, 0.6778370845359083, 0.06413831272745962, 0.05486411604719858, 0.07132824919359668, 0.0638926260126388, -0.13775226382355935, 0.10294401845214189, -0.030813006311760625, 0.06989044457344175, -0.13214640561259786, -0.09700350801639596], [-0.0668152944573403, -0.036090894644330324, null, -0.02893713697803069, 0.243558999964465, 0.530406844569368, 0.9479429172616908, 0.6778370845359083, 1.0, 0.04256759615702273, 0.03677960184636318, 0.04526137928444994, 0.044508888210489456, -0.0880376701665224, 0.053766911044123775, 0.0008100786917132846, 0.043802918046788604, -0.03594822424765208, -0.06750380079542882], [0.012867201295595777, -0.47067406539635, null, 0.0041467491999412544, 0.0752796177910251, 0.05257933391628202, 0.03443496144979288, 0.06413831272745962, 0.04256759615702273, 1.0, 0.9981780776343058, 0.9962157270762283, 0.9962223640540483, -0.8308308200189992, 0.7933405834448438, -0.47987835512158805, 0.9975698398631881, -0.620575483795378, -0.34834656772061295], [0.009510624297389214, -0.47608602446283965, null, 0.0011051466635246606, 0.06816254273081311, 0.04088876731088574, 0.026446178702559643, 0.05486411604719858, 0.03677960184636318, 0.9981780776343058, 1.0, 0.9915942770459992, 0.9942332018438514, -0.7957381881218434, 0.7722381836406879, -0.48076322321618364, 0.9925667797305328, -0.6286029488289665, -0.3485910680495576], [0.014851141311016435, -0.48082123148395883, null, -0.004499784852601579, 0.09046818672745452, 0.06747235085442344, 0.0389926489886799, 0.07132824919359668, 0.04526137928444994, 0.9962157270762283, 0.9915942770459992, 1.0, 0.9862142424579222, -0.8535721755839952, 0.8432503383627686, -0.5410864180940794, 0.9988818809036177, -0.6085703331151454, -0.40007833588472547], [0.013612577247631447, -0.44878281673939663, null, 0.01724334084547526, 0.06339863065639705, 0.04566102214771055, 0.036365000900969856, 0.0638926260126388, 0.044508888210489456, 0.9962223640540483, 0.9942332018438514, 0.9862142424579222, 1.0, -0.8292982923679154, 0.7466498724391538, -0.4018787056174133, 0.990843193317256, -0.6208628820357447, -0.28347794972276885], [-0.0414341069756639, 0.3332229333560885, null, -0.031430240343304265, -0.12692496087962454, -0.15063067456709367, -0.10171677995943483, -0.13775226382355935, -0.0880376701665224, -0.8308308200189992, -0.7957381881218434, -0.8535721755839952, -0.8292982923679154, 1.0, -0.8404409706373923, 0.38247171971801347, -0.8581942969052521, 0.431122074282113, 0.2813079792284775], [0.02444524560575394, -0.45695430696095324, null, -0.05716311100918687, 0.16810287125663104, 0.14742200454330373, 0.06015472452666985, 0.10294401845214189, 0.053766911044123775, 0.7933405834448438, 0.7722381836406879, 0.8432503383627686, 0.7466498724391538, -0.8404409706373923, 1.0, -0.8221455967767819, 0.8270442793489913, -0.4246892556137027, -0.6479349965289091], [0.0018469977219699944, 0.42907033816177326, null, 0.1304833918090463, -0.15328579488516159, -0.09312084386446783, 0.004288700743723139, -0.030813006311760625, 0.0008100786917132846, -0.47987835512158805, -0.48076322321618364, -0.5410864180940794, -0.4018787056174133, 0.38247171971801347, -0.8221455967767819, 1.0, -0.5085988099799705, 0.27121258680165566, 0.8092377452480419], [0.016348299152698625, -0.46057708303030187, null, 0.004904715767042356, 0.08735562279733737, 0.06538039220789187, 0.037604471090900385, 0.06989044457344175, 0.043802918046788604, 0.9975698398631881, 0.9925667797305328, 0.9988818809036177, 0.990843193317256, -0.8581942969052521, 0.8270442793489913, -0.5085988099799705, 1.0, -0.6161152910121694, -0.3606214527869944], [-0.11812372155609129, 0.0643911333740474, null, -0.06448228974831023, -0.08536929091160322, -0.09036186619896239, -0.01214559482147289, -0.13214640561259786, -0.03594822424765208, -0.620575483795378, -0.6286029488289665, -0.6085703331151454, -0.6208628820357447, 0.431122074282113, -0.4246892556137027, 0.27121258680165566, -0.6161152910121694, 1.0, -0.05308805933076958], [0.050728334419367936, 0.5974488637995597, null, 0.22256813638487252, -0.11137192895250086, -0.10855203423881676, -0.06527915212228523, -0.09700350801639596, -0.06750380079542882, -0.34834656772061295, -0.3485910680495576, -0.40007833588472547, -0.28347794972276885, 0.2813079792284775, -0.6479349965289091, 0.8092377452480419, -0.3606214527869944, -0.05308805933076958, 1.0]], \"type\": \"heatmap\"}], {}, {\"linkText\": \"Export to plot.ly\", \"showLink\": true})});</script>"
      ]
     },
     "metadata": {},
     "output_type": "display_data"
    }
   ],
   "source": [
    "#здесь можно наводить мышкой и смотреть числа и имена признаков\n",
    "# но, чтоб отображалось, нужно запустить код\n",
    "#!pip install plotly\n",
    "\n",
    "import plotly.offline as offline\n",
    "import plotly.plotly as py\n",
    "import plotly.graph_objs as go\n",
    "\n",
    "offline.init_notebook_mode(connected=True)\n",
    "\n",
    "trace = go.Heatmap(z=data.corr().as_matrix(), x=data.columns, y=data.columns)\n",
    "offline.iplot([trace])"
   ]
  },
  {
   "cell_type": "code",
   "execution_count": 46,
   "metadata": {},
   "outputs": [
    {
     "data": {
      "text/plain": [
       "[<matplotlib.lines.Line2D at 0x1150c8b90>]"
      ]
     },
     "execution_count": 46,
     "metadata": {},
     "output_type": "execute_result"
    },
    {
     "data": {
      "image/png": "[encoded data removed]",
      "text/plain": [
       "<matplotlib.figure.Figure at 0x115831650>"
      ]
     },
     "metadata": {},
     "output_type": "display_data"
    }
   ],
   "source": [
    "plt.plot(data['HEDGE-MEAN'], data['VEDGE-MEAN'], 'o', alpha = 0.3)"
   ]
  },
  {
   "cell_type": "code",
   "execution_count": 19,
   "metadata": {},
   "outputs": [
    {
     "data": {
      "image/png": "[encoded data removed]",
      "text/plain": [
       "<matplotlib.figure.Figure at 0x11db75d50>"
      ]
     },
     "metadata": {},
     "output_type": "display_data"
    }
   ],
   "source": [
    "plt.figure(figsize = (10, 6))\n",
    "\n",
    "plt.scatter(data[data['HEDGE-MEAN'] <= 2]['VEDGE-MEAN'],\n",
    "            data[data['HEDGE-MEAN'] <= 2]['HEDGE-MEAN'],\n",
    "            alpha = 0.15,\n",
    "            label = '<=2',\n",
    "            color = 'b')\n",
    "\n",
    "plt.scatter(data[data['HEDGE-MEAN'] > 2]['VEDGE-MEAN'],\n",
    "            data[data['HEDGE-MEAN'] > 2]['HEDGE-MEAN'],\n",
    "            alpha = 0.15,\n",
    "            label = '>2',\n",
    "            color = 'r')\n",
    "\n",
    "plt.xlabel('REGION-PIXEL-COUNT')\n",
    "plt.xticks(range(17))\n",
    "plt.xlim(0, 17)\n",
    "plt.ylabel('HEDGE-MEAN')\n",
    "plt.legend(loc='best')\n",
    "plt.grid()"
   ]
  },
  {
   "cell_type": "code",
   "execution_count": 11,
   "metadata": {},
   "outputs": [
    {
     "data": {
      "text/plain": [
       "array(['BRICKFACE', 'SKY', 'FOLIAGE', 'CEMENT', 'WINDOW', 'PATH', 'GRASS'], dtype=object)"
      ]
     },
     "execution_count": 11,
     "metadata": {},
     "output_type": "execute_result"
    }
   ],
   "source": [
    "data.LABEL.unique()"
   ]
  },
  {
   "cell_type": "code",
   "execution_count": 21,
   "metadata": {},
   "outputs": [
    {
     "data": {
      "text/plain": [
       "<matplotlib.axes._subplots.AxesSubplot at 0x1189359d0>"
      ]
     },
     "execution_count": 21,
     "metadata": {},
     "output_type": "execute_result"
    },
    {
     "data": {
      "image/png": "[encoded data removed]",
      "text/plain": [
       "<matplotlib.figure.Figure at 0x117f43850>"
      ]
     },
     "metadata": {},
     "output_type": "display_data"
    }
   ],
   "source": [
    "# здесь можно более детально увидеть численные значения признаков и выбросы\n",
    "\n",
    "fig, ax = plt.subplots(figsize=(30, 10))\n",
    "sns.boxplot(data.iloc[:, :10])"
   ]
  },
  {
   "cell_type": "code",
   "execution_count": null,
   "metadata": {
    "collapsed": true
   },
   "outputs": [],
   "source": [
    "# здесь каждый признак представлен такой диаграммой отдельно и сделано деление между классами,\n",
    "# что бы можно было более наглядно изучить признаки\n",
    "## для отображения необходимо запустить код\n",
    "\n",
    "import plotly.plotly as py\n",
    "import plotly.graph_objs as go\n",
    "\n",
    "import numpy as np\n",
    "\n",
    "\n",
    "offline.init_notebook_mode()\n",
    "\n",
    "for feature in data.columns[1:]:\n",
    "    trace = []\n",
    "    print(feature)\n",
    "    for label in data.LABEL.unique():\n",
    "        trace.append(\n",
    "            go.Box(\n",
    "                #title = feature,\n",
    "                y = data[feature][data.LABEL == label],\n",
    "                name = label,\n",
    "                boxpoints='all',\n",
    "                jitter=0.5,\n",
    "                whiskerwidth=0.2,\n",
    "                marker=dict(\n",
    "                    size=2,\n",
    "                ),\n",
    "                line=dict(width=1)\n",
    "        ))\n",
    "    offline.iplot(trace)\n"
   ]
  },
  {
   "cell_type": "code",
   "execution_count": 24,
   "metadata": {},
   "outputs": [
    {
     "data": {
      "text/plain": [
       "array(['BRICKFACE', 'SKY', 'FOLIAGE', 'CEMENT', 'WINDOW', 'PATH', 'GRASS'], dtype=object)"
      ]
     },
     "execution_count": 24,
     "metadata": {},
     "output_type": "execute_result"
    }
   ],
   "source": [
    "data.LABEL.unique()"
   ]
  },
  {
   "cell_type": "markdown",
   "metadata": {
    "collapsed": true
   },
   "source": [
    "## Задача"
   ]
  },
  {
   "cell_type": "markdown",
   "metadata": {
    "collapsed": true
   },
   "source": [
    "u'HEDGE-MEAN', u'HEDGE-SD',\n",
    "       u'INTENSITY-MEAN', u'RAWRED-MEAN', u'RAWBLUE-MEAN', u'RAWGREEN-MEAN',\n",
    "       u'EXRED-MEAN', u'EXBLUE-MEAN', u'EXGREEN-MEAN' - сильно кореллируют"
   ]
  },
  {
   "cell_type": "markdown",
   "metadata": {
    "collapsed": true
   },
   "source": [
    "u'RAWGREEN-MEAN', u'EXRED-MEAN', u'EXBLUE-MEAN', u'EXGREEN-MEAN' - тоже достаточно кореллируют"
   ]
  },
  {
   "cell_type": "markdown",
   "metadata": {
    "collapsed": true
   },
   "source": [
    " u'EXGREEN-MEAN', u'VALUE-MEAN' - достаточно коррелируют"
   ]
  },
  {
   "cell_type": "code",
   "execution_count": 25,
   "metadata": {
    "collapsed": true
   },
   "outputs": [],
   "source": [
    "# эти признаки сильно коррелируют, но при их удалении качество классификации ухудшается\n",
    "\n",
    "#data1 = data.drop(['HEDGE-SD', 'INTENSITY-MEAN', 'RAWRED-MEAN', 'RAWBLUE-MEAN', 'RAWGREEN-MEAN', 'EXRED-MEAN',  'EXBLUE-MEAN','EXGREEN-MEAN', 'VALUE-MEAN'], axis=1)"
   ]
  },
  {
   "cell_type": "code",
   "execution_count": 8,
   "metadata": {
    "collapsed": true
   },
   "outputs": [],
   "source": [
    "# REGION-PIXEL-COUNT - константа, число везде равно 9\n",
    "# остальные признаки не влияют на классификкацию, если смотреть на распределения признаков\n",
    "# 'VEDGE-SD' при удалении портит качество классификации \n",
    "\n",
    "data1 = data.drop(['REGION-PIXEL-COUNT', 'SHORT-LINE-DENSITY-5', 'SHORT-LINE-DENSITY-2', 'HEDGE-SD'], axis=1)"
   ]
  },
  {
   "cell_type": "code",
   "execution_count": null,
   "metadata": {
    "collapsed": true
   },
   "outputs": [],
   "source": [
    "# для отображения новой матрицы корелляции необходимо запустить код\n",
    "\n",
    "offline.init_notebook_mode()\n",
    "\n",
    "trace = go.Heatmap(z=data1.corr().as_matrix(), x=data1.columns, y=data1.columns)\n",
    "offline.iplot([trace], filename='basic-heatmap')"
   ]
  },
  {
   "cell_type": "markdown",
   "metadata": {},
   "source": [
    "# Готовим данные"
   ]
  },
  {
   "cell_type": "code",
   "execution_count": 9,
   "metadata": {},
   "outputs": [
    {
     "name": "stdout",
     "output_type": "stream",
     "text": [
      "<class 'pandas.core.frame.DataFrame'>\n",
      "RangeIndex: 210 entries, 0 to 209\n",
      "Data columns (total 16 columns):\n",
      "LABEL                  210 non-null object\n",
      "REGION-CENTROID-COL    210 non-null float64\n",
      "REGION-CENTROID-ROW    210 non-null float64\n",
      "VEDGE-MEAN             210 non-null float64\n",
      "VEDGE-SD               210 non-null float64\n",
      "HEDGE-MEAN             210 non-null float64\n",
      "INTENSITY-MEAN         210 non-null float64\n",
      "RAWRED-MEAN            210 non-null float64\n",
      "RAWBLUE-MEAN           210 non-null float64\n",
      "RAWGREEN-MEAN          210 non-null float64\n",
      "EXRED-MEAN             210 non-null float64\n",
      "EXBLUE-MEAN            210 non-null float64\n",
      "EXGREEN-MEAN           210 non-null float64\n",
      "VALUE-MEAN             210 non-null float64\n",
      "SATURATION-MEAN        210 non-null float64\n",
      "HUE-MEAN               210 non-null float64\n",
      "dtypes: float64(15), object(1)\n",
      "memory usage: 26.3+ KB\n"
     ]
    }
   ],
   "source": [
    "data1.info()"
   ]
  },
  {
   "cell_type": "markdown",
   "metadata": {},
   "source": [
    "В датасете нет категориальных признаков, все числовые."
   ]
  },
  {
   "cell_type": "markdown",
   "metadata": {},
   "source": [
    "# Обрабатываем пропущенные значения"
   ]
  },
  {
   "cell_type": "code",
   "execution_count": 10,
   "metadata": {},
   "outputs": [
    {
     "data": {
      "text/plain": [
       "LABEL                  0.0\n",
       "REGION-CENTROID-COL    0.0\n",
       "REGION-CENTROID-ROW    0.0\n",
       "VEDGE-MEAN             0.0\n",
       "VEDGE-SD               0.0\n",
       "HEDGE-MEAN             0.0\n",
       "INTENSITY-MEAN         0.0\n",
       "RAWRED-MEAN            0.0\n",
       "RAWBLUE-MEAN           0.0\n",
       "RAWGREEN-MEAN          0.0\n",
       "EXRED-MEAN             0.0\n",
       "EXBLUE-MEAN            0.0\n",
       "EXGREEN-MEAN           0.0\n",
       "VALUE-MEAN             0.0\n",
       "SATURATION-MEAN        0.0\n",
       "HUE-MEAN               0.0\n",
       "dtype: float64"
      ]
     },
     "execution_count": 10,
     "metadata": {},
     "output_type": "execute_result"
    }
   ],
   "source": [
    "# пропущенных значений в данных нет\n",
    "\n",
    "data1.isnull().sum()/float(data.shape[0])"
   ]
  },
  {
   "cell_type": "code",
   "execution_count": 11,
   "metadata": {},
   "outputs": [
    {
     "data": {
      "text/plain": [
       "count    210.000000\n",
       "mean     124.647619\n",
       "std       74.104024\n",
       "min        1.000000\n",
       "25%       60.500000\n",
       "50%      123.500000\n",
       "75%      189.750000\n",
       "max      252.000000\n",
       "Name: REGION-CENTROID-COL, dtype: float64"
      ]
     },
     "execution_count": 11,
     "metadata": {},
     "output_type": "execute_result"
    }
   ],
   "source": [
    "data1['REGION-CENTROID-COL'].describe()"
   ]
  },
  {
   "cell_type": "markdown",
   "metadata": {},
   "source": [
    "# Векторизация"
   ]
  },
  {
   "cell_type": "markdown",
   "metadata": {},
   "source": [
    "В векторизации нет необходимости, так как в датасете нет категориальных признаков"
   ]
  },
  {
   "cell_type": "markdown",
   "metadata": {},
   "source": [
    "# Нормализация количественных признаков"
   ]
  },
  {
   "cell_type": "code",
   "execution_count": 12,
   "metadata": {},
   "outputs": [
    {
     "data": {
      "text/html": [
       "<div>\n",
       "<style>\n",
       "    .dataframe thead tr:only-child th {\n",
       "        text-align: right;\n",
       "    }\n",
       "\n",
       "    .dataframe thead th {\n",
       "        text-align: left;\n",
       "    }\n",
       "\n",
       "    .dataframe tbody tr th {\n",
       "        vertical-align: top;\n",
       "    }\n",
       "</style>\n",
       "<table border=\"1\" class=\"dataframe\">\n",
       "  <thead>\n",
       "    <tr style=\"text-align: right;\">\n",
       "      <th></th>\n",
       "      <th>REGION-CENTROID-COL</th>\n",
       "      <th>REGION-CENTROID-ROW</th>\n",
       "      <th>VEDGE-MEAN</th>\n",
       "      <th>VEDGE-SD</th>\n",
       "      <th>HEDGE-MEAN</th>\n",
       "      <th>INTENSITY-MEAN</th>\n",
       "      <th>RAWRED-MEAN</th>\n",
       "      <th>RAWBLUE-MEAN</th>\n",
       "      <th>RAWGREEN-MEAN</th>\n",
       "      <th>EXRED-MEAN</th>\n",
       "      <th>EXBLUE-MEAN</th>\n",
       "      <th>EXGREEN-MEAN</th>\n",
       "      <th>VALUE-MEAN</th>\n",
       "      <th>SATURATION-MEAN</th>\n",
       "      <th>HUE-MEAN</th>\n",
       "    </tr>\n",
       "  </thead>\n",
       "  <tbody>\n",
       "    <tr>\n",
       "      <th>count</th>\n",
       "      <td>210.000000</td>\n",
       "      <td>210.000000</td>\n",
       "      <td>210.000000</td>\n",
       "      <td>210.000000</td>\n",
       "      <td>210.000000</td>\n",
       "      <td>210.000000</td>\n",
       "      <td>210.000000</td>\n",
       "      <td>210.000000</td>\n",
       "      <td>210.000000</td>\n",
       "      <td>210.000000</td>\n",
       "      <td>210.000000</td>\n",
       "      <td>210.000000</td>\n",
       "      <td>210.000000</td>\n",
       "      <td>210.000000</td>\n",
       "      <td>210.000000</td>\n",
       "    </tr>\n",
       "    <tr>\n",
       "      <th>mean</th>\n",
       "      <td>124.647619</td>\n",
       "      <td>122.757143</td>\n",
       "      <td>1.925132</td>\n",
       "      <td>5.719529</td>\n",
       "      <td>2.604233</td>\n",
       "      <td>37.091005</td>\n",
       "      <td>32.967725</td>\n",
       "      <td>44.011112</td>\n",
       "      <td>34.294180</td>\n",
       "      <td>-12.369841</td>\n",
       "      <td>20.760317</td>\n",
       "      <td>-8.390476</td>\n",
       "      <td>44.888360</td>\n",
       "      <td>0.423230</td>\n",
       "      <td>-1.340397</td>\n",
       "    </tr>\n",
       "    <tr>\n",
       "      <th>std</th>\n",
       "      <td>74.104024</td>\n",
       "      <td>58.139686</td>\n",
       "      <td>3.158211</td>\n",
       "      <td>43.495942</td>\n",
       "      <td>4.798268</td>\n",
       "      <td>38.677168</td>\n",
       "      <td>35.540563</td>\n",
       "      <td>43.804447</td>\n",
       "      <td>37.057003</td>\n",
       "      <td>11.559599</td>\n",
       "      <td>18.761842</td>\n",
       "      <td>11.003746</td>\n",
       "      <td>43.235182</td>\n",
       "      <td>0.227333</td>\n",
       "      <td>1.559405</td>\n",
       "    </tr>\n",
       "    <tr>\n",
       "      <th>min</th>\n",
       "      <td>1.000000</td>\n",
       "      <td>11.000000</td>\n",
       "      <td>0.000000</td>\n",
       "      <td>0.000000</td>\n",
       "      <td>0.000000</td>\n",
       "      <td>0.000000</td>\n",
       "      <td>0.000000</td>\n",
       "      <td>0.000000</td>\n",
       "      <td>0.000000</td>\n",
       "      <td>-48.222220</td>\n",
       "      <td>-9.666667</td>\n",
       "      <td>-30.555555</td>\n",
       "      <td>0.000000</td>\n",
       "      <td>0.000000</td>\n",
       "      <td>-2.530950</td>\n",
       "    </tr>\n",
       "    <tr>\n",
       "      <th>25%</th>\n",
       "      <td>60.500000</td>\n",
       "      <td>81.500000</td>\n",
       "      <td>0.666667</td>\n",
       "      <td>0.400921</td>\n",
       "      <td>0.777779</td>\n",
       "      <td>6.453704</td>\n",
       "      <td>7.000000</td>\n",
       "      <td>8.277778</td>\n",
       "      <td>3.805555</td>\n",
       "      <td>-18.111110</td>\n",
       "      <td>4.111111</td>\n",
       "      <td>-15.750000</td>\n",
       "      <td>10.527778</td>\n",
       "      <td>0.275722</td>\n",
       "      <td>-2.187112</td>\n",
       "    </tr>\n",
       "    <tr>\n",
       "      <th>50%</th>\n",
       "      <td>123.500000</td>\n",
       "      <td>121.500000</td>\n",
       "      <td>1.222222</td>\n",
       "      <td>0.828695</td>\n",
       "      <td>1.388889</td>\n",
       "      <td>21.314816</td>\n",
       "      <td>18.611112</td>\n",
       "      <td>26.833334</td>\n",
       "      <td>20.000000</td>\n",
       "      <td>-10.333333</td>\n",
       "      <td>19.555556</td>\n",
       "      <td>-9.888889</td>\n",
       "      <td>28.388890</td>\n",
       "      <td>0.365455</td>\n",
       "      <td>-2.044163</td>\n",
       "    </tr>\n",
       "    <tr>\n",
       "      <th>75%</th>\n",
       "      <td>189.750000</td>\n",
       "      <td>174.500000</td>\n",
       "      <td>1.888890</td>\n",
       "      <td>1.676634</td>\n",
       "      <td>2.597221</td>\n",
       "      <td>52.629629</td>\n",
       "      <td>46.750000</td>\n",
       "      <td>64.194447</td>\n",
       "      <td>46.472223</td>\n",
       "      <td>-4.666666</td>\n",
       "      <td>34.333332</td>\n",
       "      <td>-3.722222</td>\n",
       "      <td>64.194447</td>\n",
       "      <td>0.539738</td>\n",
       "      <td>-1.429800</td>\n",
       "    </tr>\n",
       "    <tr>\n",
       "      <th>max</th>\n",
       "      <td>252.000000</td>\n",
       "      <td>250.000000</td>\n",
       "      <td>25.500000</td>\n",
       "      <td>572.996400</td>\n",
       "      <td>44.722225</td>\n",
       "      <td>143.444440</td>\n",
       "      <td>136.888890</td>\n",
       "      <td>150.888890</td>\n",
       "      <td>142.555560</td>\n",
       "      <td>5.777778</td>\n",
       "      <td>78.777780</td>\n",
       "      <td>21.888890</td>\n",
       "      <td>150.888890</td>\n",
       "      <td>1.000000</td>\n",
       "      <td>2.864931</td>\n",
       "    </tr>\n",
       "  </tbody>\n",
       "</table>\n",
       "</div>"
      ],
      "text/plain": [
       "       REGION-CENTROID-COL  REGION-CENTROID-ROW  VEDGE-MEAN    VEDGE-SD  \\\n",
       "count           210.000000           210.000000  210.000000  210.000000   \n",
       "mean            124.647619           122.757143    1.925132    5.719529   \n",
       "std              74.104024            58.139686    3.158211   43.495942   \n",
       "min               1.000000            11.000000    0.000000    0.000000   \n",
       "25%              60.500000            81.500000    0.666667    0.400921   \n",
       "50%             123.500000           121.500000    1.222222    0.828695   \n",
       "75%             189.750000           174.500000    1.888890    1.676634   \n",
       "max             252.000000           250.000000   25.500000  572.996400   \n",
       "\n",
       "       HEDGE-MEAN  INTENSITY-MEAN  RAWRED-MEAN  RAWBLUE-MEAN  RAWGREEN-MEAN  \\\n",
       "count  210.000000      210.000000   210.000000    210.000000     210.000000   \n",
       "mean     2.604233       37.091005    32.967725     44.011112      34.294180   \n",
       "std      4.798268       38.677168    35.540563     43.804447      37.057003   \n",
       "min      0.000000        0.000000     0.000000      0.000000       0.000000   \n",
       "25%      0.777779        6.453704     7.000000      8.277778       3.805555   \n",
       "50%      1.388889       21.314816    18.611112     26.833334      20.000000   \n",
       "75%      2.597221       52.629629    46.750000     64.194447      46.472223   \n",
       "max     44.722225      143.444440   136.888890    150.888890     142.555560   \n",
       "\n",
       "       EXRED-MEAN  EXBLUE-MEAN  EXGREEN-MEAN  VALUE-MEAN  SATURATION-MEAN  \\\n",
       "count  210.000000   210.000000    210.000000  210.000000       210.000000   \n",
       "mean   -12.369841    20.760317     -8.390476   44.888360         0.423230   \n",
       "std     11.559599    18.761842     11.003746   43.235182         0.227333   \n",
       "min    -48.222220    -9.666667    -30.555555    0.000000         0.000000   \n",
       "25%    -18.111110     4.111111    -15.750000   10.527778         0.275722   \n",
       "50%    -10.333333    19.555556     -9.888889   28.388890         0.365455   \n",
       "75%     -4.666666    34.333332     -3.722222   64.194447         0.539738   \n",
       "max      5.777778    78.777780     21.888890  150.888890         1.000000   \n",
       "\n",
       "         HUE-MEAN  \n",
       "count  210.000000  \n",
       "mean    -1.340397  \n",
       "std      1.559405  \n",
       "min     -2.530950  \n",
       "25%     -2.187112  \n",
       "50%     -2.044163  \n",
       "75%     -1.429800  \n",
       "max      2.864931  "
      ]
     },
     "execution_count": 12,
     "metadata": {},
     "output_type": "execute_result"
    }
   ],
   "source": [
    "y = data1.LABEL\n",
    "X = data1.copy()\n",
    "del X['LABEL']\n",
    "X.describe()"
   ]
  },
  {
   "cell_type": "code",
   "execution_count": 13,
   "metadata": {},
   "outputs": [
    {
     "data": {
      "text/html": [
       "<div>\n",
       "<style>\n",
       "    .dataframe thead tr:only-child th {\n",
       "        text-align: right;\n",
       "    }\n",
       "\n",
       "    .dataframe thead th {\n",
       "        text-align: left;\n",
       "    }\n",
       "\n",
       "    .dataframe tbody tr th {\n",
       "        vertical-align: top;\n",
       "    }\n",
       "</style>\n",
       "<table border=\"1\" class=\"dataframe\">\n",
       "  <thead>\n",
       "    <tr style=\"text-align: right;\">\n",
       "      <th></th>\n",
       "      <th>REGION-CENTROID-COL</th>\n",
       "      <th>REGION-CENTROID-ROW</th>\n",
       "      <th>VEDGE-MEAN</th>\n",
       "      <th>VEDGE-SD</th>\n",
       "      <th>HEDGE-MEAN</th>\n",
       "      <th>INTENSITY-MEAN</th>\n",
       "      <th>RAWRED-MEAN</th>\n",
       "      <th>RAWBLUE-MEAN</th>\n",
       "      <th>RAWGREEN-MEAN</th>\n",
       "      <th>EXRED-MEAN</th>\n",
       "      <th>EXBLUE-MEAN</th>\n",
       "      <th>EXGREEN-MEAN</th>\n",
       "      <th>VALUE-MEAN</th>\n",
       "      <th>SATURATION-MEAN</th>\n",
       "      <th>HUE-MEAN</th>\n",
       "    </tr>\n",
       "  </thead>\n",
       "  <tbody>\n",
       "    <tr>\n",
       "      <th>0</th>\n",
       "      <td>0.207668</td>\n",
       "      <td>0.038669</td>\n",
       "      <td>-0.522856</td>\n",
       "      <td>-0.130359</td>\n",
       "      <td>-0.404770</td>\n",
       "      <td>-0.800981</td>\n",
       "      <td>-0.722995</td>\n",
       "      <td>-0.831680</td>\n",
       "      <td>-0.831478</td>\n",
       "      <td>1.371334</td>\n",
       "      <td>-0.871709</td>\n",
       "      <td>0.045692</td>\n",
       "      <td>-0.860393</td>\n",
       "      <td>0.539724</td>\n",
       "      <td>0.140503</td>\n",
       "    </tr>\n",
       "    <tr>\n",
       "      <th>1</th>\n",
       "      <td>0.856954</td>\n",
       "      <td>0.176598</td>\n",
       "      <td>-0.505223</td>\n",
       "      <td>-0.125664</td>\n",
       "      <td>-0.439588</td>\n",
       "      <td>-0.788502</td>\n",
       "      <td>-0.694791</td>\n",
       "      <td>-0.829138</td>\n",
       "      <td>-0.822461</td>\n",
       "      <td>1.506224</td>\n",
       "      <td>-0.931072</td>\n",
       "      <td>0.005205</td>\n",
       "      <td>-0.844937</td>\n",
       "      <td>0.508617</td>\n",
       "      <td>0.267136</td>\n",
       "    </tr>\n",
       "    <tr>\n",
       "      <th>2</th>\n",
       "      <td>-0.265769</td>\n",
       "      <td>0.280044</td>\n",
       "      <td>-0.522856</td>\n",
       "      <td>-0.129335</td>\n",
       "      <td>-0.369952</td>\n",
       "      <td>-0.802901</td>\n",
       "      <td>-0.716727</td>\n",
       "      <td>-0.841851</td>\n",
       "      <td>-0.831478</td>\n",
       "      <td>1.448414</td>\n",
       "      <td>-0.931072</td>\n",
       "      <td>0.065936</td>\n",
       "      <td>-0.865545</td>\n",
       "      <td>0.482371</td>\n",
       "      <td>0.240698</td>\n",
       "    </tr>\n",
       "  </tbody>\n",
       "</table>\n",
       "</div>"
      ],
      "text/plain": [
       "   REGION-CENTROID-COL  REGION-CENTROID-ROW  VEDGE-MEAN  VEDGE-SD  HEDGE-MEAN  \\\n",
       "0             0.207668             0.038669   -0.522856 -0.130359   -0.404770   \n",
       "1             0.856954             0.176598   -0.505223 -0.125664   -0.439588   \n",
       "2            -0.265769             0.280044   -0.522856 -0.129335   -0.369952   \n",
       "\n",
       "   INTENSITY-MEAN  RAWRED-MEAN  RAWBLUE-MEAN  RAWGREEN-MEAN  EXRED-MEAN  \\\n",
       "0       -0.800981    -0.722995     -0.831680      -0.831478    1.371334   \n",
       "1       -0.788502    -0.694791     -0.829138      -0.822461    1.506224   \n",
       "2       -0.802901    -0.716727     -0.841851      -0.831478    1.448414   \n",
       "\n",
       "   EXBLUE-MEAN  EXGREEN-MEAN  VALUE-MEAN  SATURATION-MEAN  HUE-MEAN  \n",
       "0    -0.871709      0.045692   -0.860393         0.539724  0.140503  \n",
       "1    -0.931072      0.005205   -0.844937         0.508617  0.267136  \n",
       "2    -0.931072      0.065936   -0.865545         0.482371  0.240698  "
      ]
     },
     "execution_count": 13,
     "metadata": {},
     "output_type": "execute_result"
    }
   ],
   "source": [
    "from sklearn.preprocessing import scale\n",
    "\n",
    "X = X.astype(float)\n",
    "X = pd.DataFrame(scale(X), columns=X.columns)\n",
    "X.head(3)"
   ]
  },
  {
   "cell_type": "markdown",
   "metadata": {},
   "source": [
    "#  Построение модели"
   ]
  },
  {
   "cell_type": "code",
   "execution_count": 33,
   "metadata": {},
   "outputs": [
    {
     "name": "stdout",
     "output_type": "stream",
     "text": [
      "(147, 63)\n"
     ]
    }
   ],
   "source": [
    "from sklearn.model_selection import train_test_split\n",
    "X_train, X_test, y_train, y_test = train_test_split(X, y, test_size = 0.3, random_state = 1)\n",
    "\n",
    "N_train, _ = X_train.shape \n",
    "N_test,  _ = X_test.shape \n",
    "\n",
    "print(N_train, N_test)"
   ]
  },
  {
   "cell_type": "code",
   "execution_count": 34,
   "metadata": {},
   "outputs": [
    {
     "data": {
      "text/plain": [
       "KNeighborsClassifier(algorithm='auto', leaf_size=30, metric='minkowski',\n",
       "           metric_params=None, n_jobs=1, n_neighbors=10, p=2,\n",
       "           weights='uniform')"
      ]
     },
     "execution_count": 34,
     "metadata": {},
     "output_type": "execute_result"
    }
   ],
   "source": [
    "from sklearn.neighbors import KNeighborsClassifier\n",
    "\n",
    "knn = KNeighborsClassifier(n_neighbors = 10)\n",
    "#knn.set_params(n_neighbors=10)\n",
    "knn.fit(X_train, y_train)"
   ]
  },
  {
   "cell_type": "code",
   "execution_count": 35,
   "metadata": {},
   "outputs": [
    {
     "name": "stdout",
     "output_type": "stream",
     "text": [
      "(0.12244897959183673, 0.1111111111111111)\n"
     ]
    }
   ],
   "source": [
    "y_train_predict = knn.predict(X_train)\n",
    "y_test_predict = knn.predict(X_test)\n",
    "\n",
    "err_train = np.mean(y_train != y_train_predict)\n",
    "err_test  = np.mean(y_test  != y_test_predict)\n",
    "\n",
    "print(err_train, err_test)"
   ]
  },
  {
   "cell_type": "code",
   "execution_count": 36,
   "metadata": {},
   "outputs": [
    {
     "data": {
      "text/plain": [
       "array([[ 9,  0,  0,  0,  0,  0,  0],\n",
       "       [ 3,  6,  0,  0,  1,  0,  1],\n",
       "       [ 1,  0,  6,  0,  0,  0,  0],\n",
       "       [ 0,  0,  0, 10,  0,  0,  0],\n",
       "       [ 0,  0,  0,  0, 10,  0,  0],\n",
       "       [ 0,  0,  0,  0,  0, 12,  0],\n",
       "       [ 1,  0,  0,  0,  0,  0,  3]])"
      ]
     },
     "execution_count": 36,
     "metadata": {},
     "output_type": "execute_result"
    }
   ],
   "source": [
    "from sklearn.metrics import confusion_matrix\n",
    "\n",
    "confusion_matrix(y_test, y_test_predict)"
   ]
  },
  {
   "cell_type": "markdown",
   "metadata": {},
   "source": [
    "# Подбор параметров"
   ]
  },
  {
   "cell_type": "code",
   "execution_count": 138,
   "metadata": {},
   "outputs": [
    {
     "name": "stdout",
     "output_type": "stream",
     "text": [
      "(0.13605442176870752, 1)\n"
     ]
    }
   ],
   "source": [
    "from sklearn.model_selection import GridSearchCV\n",
    "nnb = range(1, 101)\n",
    "knn = KNeighborsClassifier()\n",
    "grid = GridSearchCV(knn, param_grid = {'n_neighbors': nnb}, cv=10)\n",
    "grid.fit(X_train, y_train)\n",
    "\n",
    "best_cv_err = 1 - grid.best_score_\n",
    "best_n_neighbors = grid.best_estimator_.n_neighbors\n",
    "print(best_cv_err, best_n_neighbors)"
   ]
  },
  {
   "cell_type": "code",
   "execution_count": 139,
   "metadata": {},
   "outputs": [
    {
     "name": "stdout",
     "output_type": "stream",
     "text": [
      "(0.0, 0.063492063492063489)\n"
     ]
    }
   ],
   "source": [
    "knn = KNeighborsClassifier(n_neighbors = best_n_neighbors).fit(X_train, y_train)\n",
    "\n",
    "err_train = np.mean(y_train != knn.predict(X_train))\n",
    "err_test  = np.mean(y_test  != knn.predict(X_test))\n",
    "\n",
    "print(err_train, err_test)"
   ]
  },
  {
   "cell_type": "markdown",
   "metadata": {},
   "source": [
    "Случайный лес дал очень высокое качество классификации (всего 0.06 долю ошибки), при том, что классификация происходит на 7 клаассов это очень хороший результат"
   ]
  },
  {
   "cell_type": "markdown",
   "metadata": {},
   "source": [
    "# График зависимости точности от кол-ва соседей"
   ]
  },
  {
   "cell_type": "code",
   "execution_count": 37,
   "metadata": {},
   "outputs": [
    {
     "data": {
      "text/plain": [
       "<matplotlib.legend.Legend at 0x11a854910>"
      ]
     },
     "execution_count": 37,
     "metadata": {},
     "output_type": "execute_result"
    },
    {
     "data": {
      "image/png": "[encoded data removed]",
      "text/plain": [
       "<matplotlib.figure.Figure at 0x1197a1f10>"
      ]
     },
     "metadata": {},
     "output_type": "display_data"
    }
   ],
   "source": [
    "from sklearn.metrics import accuracy_score\n",
    "\n",
    "tr_err = []\n",
    "ts_err = []\n",
    "for n in range(1, 101):\n",
    "    knn = KNeighborsClassifier(n_neighbors = n)\n",
    "    knn.fit(X_train, y_train)\n",
    "    tr_err.append(accuracy_score(y_train, knn.predict(X_train)))\n",
    "    ts_err.append(accuracy_score(y_test, knn.predict(X_test)))\n",
    "\n",
    "plt.figure(figsize = (10, 6))\n",
    "plt.plot(range(1, 101), tr_err, label='train_acc')\n",
    "plt.plot(range(1, 101), ts_err, label='test_acc')\n",
    "plt.xlabel('n_neighbor')\n",
    "plt.xticks(np.linspace(0, 100, 11))\n",
    "plt.xlim(0, 101)\n",
    "plt.ylabel('acc')\n",
    "plt.legend(loc='best')"
   ]
  },
  {
   "cell_type": "markdown",
   "metadata": {},
   "source": [
    "Здесь можно сделать вывод, что при малых количесвах соседей классификатор работает лучше"
   ]
  },
  {
   "cell_type": "markdown",
   "metadata": {},
   "source": [
    "# График зависимости точности размера обучающей и тестовой выборок"
   ]
  },
  {
   "cell_type": "code",
   "execution_count": 39,
   "metadata": {},
   "outputs": [
    {
     "data": {
      "text/plain": [
       "<matplotlib.legend.Legend at 0x11aa45e10>"
      ]
     },
     "execution_count": 39,
     "metadata": {},
     "output_type": "execute_result"
    },
    {
     "data": {
      "image/png": "[encoded data removed]",
      "text/plain": [
       "<matplotlib.figure.Figure at 0x11a9d4890>"
      ]
     },
     "metadata": {},
     "output_type": "display_data"
    }
   ],
   "source": [
    "tr_err = []\n",
    "ts_err = []\n",
    "for n in np.linspace(0.05, 0.95, 19):    \n",
    "    X_train, X_test, y_train, y_test = train_test_split(X, y, test_size = n, random_state = 1)\n",
    "    knn = KNeighborsClassifier(n_neighbors = best_n_neighbors)\n",
    "    knn.fit(X_train, y_train)\n",
    "    tr_err.append(accuracy_score(y_train, knn.predict(X_train)))\n",
    "    ts_err.append(accuracy_score(y_test, knn.predict(X_test)))\n",
    "    \n",
    "plt.figure(figsize = (10, 6))\n",
    "plt.plot(np.linspace(0.05, 0.95, 19), tr_err, label='train_acc')\n",
    "plt.plot(np.linspace(0.05, 0.95, 19), ts_err, label='test_acc')\n",
    "plt.xlabel('% split')\n",
    "plt.xticks(np.linspace(0.05, 0.95, 10))\n",
    "plt.xlim(0, 1)\n",
    "plt.ylabel('acc')\n",
    "plt.legend(loc='best')"
   ]
  },
  {
   "cell_type": "markdown",
   "metadata": {},
   "source": [
    "А здесь видно оптимальную долю деления на тестовую и обучабщую выборку (около 0,35 к 0,65)"
   ]
  },
  {
   "cell_type": "markdown",
   "metadata": {
    "collapsed": true
   },
   "source": [
    "## Neural Network"
   ]
  },
  {
   "cell_type": "code",
   "execution_count": 98,
   "metadata": {
    "collapsed": true
   },
   "outputs": [],
   "source": [
    "from sklearn.model_selection import train_test_split\n",
    "from sklearn.neural_network import MLPClassifier\n",
    "X_train, X_test, y_train, y_test = train_test_split(X, y, test_size = 0.33, random_state = 123)\n",
    "N_test, _ = X_test.shape"
   ]
  },
  {
   "cell_type": "markdown",
   "metadata": {},
   "source": [
    "### Обучение классификатора"
   ]
  },
  {
   "cell_type": "code",
   "execution_count": 99,
   "metadata": {},
   "outputs": [
    {
     "data": {
      "text/plain": [
       "MLPClassifier(activation='logistic', alpha=0.0001, batch_size='auto',\n",
       "       beta_1=0.9, beta_2=0.999, early_stopping=False, epsilon=1e-08,\n",
       "       hidden_layer_sizes=(100,), learning_rate='constant',\n",
       "       learning_rate_init=0.001, max_iter=200, momentum=0.9,\n",
       "       nesterovs_momentum=True, power_t=0.5, random_state=123,\n",
       "       shuffle=True, solver='lbfgs', tol=0.0001, validation_fraction=0.1,\n",
       "       verbose=False, warm_start=False)"
      ]
     },
     "execution_count": 99,
     "metadata": {},
     "output_type": "execute_result"
    }
   ],
   "source": [
    "# Воспользуемся нейнонной сетью многслойным персептроном\n",
    "mlp_model = MLPClassifier(hidden_layer_sizes = (100,), solver = 'lbfgs', \n",
    "                          activation = 'logistic', random_state = 123)\n",
    "mlp_model.fit(X_train, y_train)"
   ]
  },
  {
   "cell_type": "markdown",
   "metadata": {},
   "source": [
    "### Проверка качесва "
   ]
  },
  {
   "cell_type": "code",
   "execution_count": 100,
   "metadata": {},
   "outputs": [
    {
     "data": {
      "text/plain": [
       "(1.0, 0.91428571428571426)"
      ]
     },
     "execution_count": 100,
     "metadata": {},
     "output_type": "execute_result"
    }
   ],
   "source": [
    "from sklearn.metrics import confusion_matrix, accuracy_score\n",
    "\n",
    "y_train_pred = mlp_model.predict(X_train)\n",
    "y_test_pred = mlp_model.predict(X_test)\n",
    "\n",
    "accuracy_score(y_train, y_train_pred), accuracy_score(y_test, y_test_pred)"
   ]
  },
  {
   "cell_type": "markdown",
   "metadata": {},
   "source": [
    "## Подбор параметров "
   ]
  },
  {
   "cell_type": "code",
   "execution_count": 101,
   "metadata": {},
   "outputs": [
    {
     "data": {
      "text/plain": [
       "GridSearchCV(cv=None, error_score='raise',\n",
       "       estimator=MLPClassifier(activation='relu', alpha=0.0001, batch_size='auto', beta_1=0.9,\n",
       "       beta_2=0.999, early_stopping=False, epsilon=1e-08,\n",
       "       hidden_layer_sizes=(100,), learning_rate='constant',\n",
       "       learning_rate_init=0.001, max_iter=100, momentum=0.9,\n",
       "       nesterovs_momentum=True, power_t=0.5, random_state=123,\n",
       "       shuffle=True, solver='adam', tol=0.0001, validation_fraction=0.1,\n",
       "       verbose=False, warm_start=False),\n",
       "       fit_params={}, iid=True, n_jobs=1,\n",
       "       param_grid={'alpha': array([ 0.     ,  0.11111,  0.22222,  0.33333,  0.44444,  0.55556,\n",
       "        0.66667,  0.77778,  0.88889,  1.     ]), 'activation': ('identity', 'logistic', 'tanh', 'relu'), 'learning_rate': ('constant', 'invscaling', 'adaptive'), 'learning_rate_init': array([  1.00000e-04,   1.11200e-01,   2.22300e-01,   3.33400e-01,\n",
       "         4.44500e-01,   5.55600e-01,   6.66700e-01,   7.77800e-01,\n",
       "         8.88900e-01,   1.00000e+00]), 'solver': ('lbfgs', 'sgd', 'adam')},\n",
       "       pre_dispatch='2*n_jobs', refit=True, return_train_score=True,\n",
       "       scoring=None, verbose=0)"
      ]
     },
     "execution_count": 101,
     "metadata": {},
     "output_type": "execute_result"
    }
   ],
   "source": [
    "# для подбора параметров воспользуемся поиском по сетке параметров GridSearchCV\n",
    "\n",
    "from sklearn.model_selection import GridSearchCV\n",
    "\n",
    "parameters = {'activation' : ('identity', 'logistic', 'tanh', 'relu'),\n",
    "              'solver' : ('lbfgs', 'sgd', 'adam'),\n",
    "              'learning_rate' : ('constant', 'invscaling', 'adaptive'),\n",
    "              'alpha' : np.linspace(0, 1, 10), \n",
    "             'learning_rate_init' : np.linspace(0.0001, 1, 10), \n",
    "              \n",
    "             }\n",
    "clf = MLPClassifier(hidden_layer_sizes=(100,), early_stopping=False, validation_fraction=0.1,\n",
    "                    max_iter=100, random_state = 123)\n",
    "clf = GridSearchCV(clf, parameters)\n",
    "clf.fit(X_train, y_train)"
   ]
  },
  {
   "cell_type": "code",
   "execution_count": 115,
   "metadata": {},
   "outputs": [
    {
     "data": {
      "text/plain": [
       "(0.97142857142857142, 0.95714285714285718)"
      ]
     },
     "execution_count": 115,
     "metadata": {},
     "output_type": "execute_result"
    }
   ],
   "source": [
    "# попробуем при найденном значении альфа, качество действительно немного улучшилось\n",
    "mlp_model = MLPClassifier(activation='relu', alpha=0.0001, batch_size='auto', beta_1=0.9,\n",
    "       beta_2=0.999, early_stopping=False, epsilon=1e-08,\n",
    "       hidden_layer_sizes=(100,), learning_rate='constant',\n",
    "       learning_rate_init=0.001, max_iter=100, momentum=0.9,\n",
    "       nesterovs_momentum=True, power_t=0.5, random_state=43,\n",
    "       shuffle=True, solver='adam', tol=0.0001, validation_fraction=0.1,\n",
    "       verbose=False, warm_start=False)\n",
    "mlp_model.fit(X_train, y_train)\n",
    "\n",
    "y_train_pred = mlp_model.predict(X_train)\n",
    "y_test_pred = mlp_model.predict(X_test)\n",
    "\n",
    "accuracy_score(y_train, y_train_pred), accuracy_score(y_test, y_test_pred)"
   ]
  },
  {
   "cell_type": "code",
   "execution_count": 63,
   "metadata": {
    "collapsed": true
   },
   "outputs": [],
   "source": [
    "alpha_arr = np.logspace(-3, 2, 21)\n",
    "test_err = []\n",
    "train_err = []\n",
    "for alpha in alpha_arr:\n",
    "    mlp_model = MLPClassifier(alpha = alpha, hidden_layer_sizes = (100,), \n",
    "                              solver = 'lbfgs', activation = 'logistic', random_state = 123)\n",
    "    mlp_model.fit(X_train, y_train)\n",
    "\n",
    "    y_train_pred = mlp_model.predict(X_train)\n",
    "    y_test_pred = mlp_model.predict(X_test)\n",
    "    train_err.append(np.mean(y_train != y_train_pred))\n",
    "    test_err.append(np.mean(y_test != y_test_pred))"
   ]
  },
  {
   "cell_type": "code",
   "execution_count": 64,
   "metadata": {},
   "outputs": [
    {
     "data": {
      "text/plain": [
       "<matplotlib.legend.Legend at 0x115233e10>"
      ]
     },
     "execution_count": 64,
     "metadata": {},
     "output_type": "execute_result"
    },
    {
     "data": {
      "image/png": "[encoded data removed]",
      "text/plain": [
       "<matplotlib.figure.Figure at 0x114fb7d50>"
      ]
     },
     "metadata": {},
     "output_type": "display_data"
    }
   ],
   "source": [
    "plt.semilogx(alpha_arr, train_err, 'b-o', label = 'test')\n",
    "plt.semilogx(alpha_arr, test_err, 'r-o', label = 'train')\n",
    "plt.xlim([np.max(alpha_arr), np.min(alpha_arr)])\n",
    "plt.title('Error vs. alpha')\n",
    "plt.xlabel('alpha')\n",
    "plt.ylabel('error')\n",
    "plt.legend()"
   ]
  },
  {
   "cell_type": "markdown",
   "metadata": {},
   "source": [
    "Чем мельне альфа, тем меньше ошибка классификации"
   ]
  },
  {
   "cell_type": "code",
   "execution_count": 65,
   "metadata": {},
   "outputs": [
    {
     "name": "stdout",
     "output_type": "stream",
     "text": [
      "(0.0, 0.042857142857142858)\n"
     ]
    }
   ],
   "source": [
    "min_train_err = np.min(train_err)\n",
    "min_test_err = np.min(test_err)\n",
    "print(min_train_err, min_test_err)"
   ]
  },
  {
   "cell_type": "code",
   "execution_count": 66,
   "metadata": {},
   "outputs": [
    {
     "name": "stdout",
     "output_type": "stream",
     "text": [
      "[ 0.17782794  0.31622777]\n"
     ]
    }
   ],
   "source": [
    "alpha_opt = alpha_arr[test_err == min_test_err]\n",
    "print(alpha_opt)"
   ]
  },
  {
   "cell_type": "code",
   "execution_count": 94,
   "metadata": {},
   "outputs": [
    {
     "data": {
      "text/plain": [
       "<matplotlib.legend.Legend at 0x1143d4810>"
      ]
     },
     "execution_count": 94,
     "metadata": {},
     "output_type": "execute_result"
    },
    {
     "data": {
      "image/png": "[encoded data removed]",
      "text/plain": [
       "<matplotlib.figure.Figure at 0x11481e490>"
      ]
     },
     "metadata": {},
     "output_type": "display_data"
    }
   ],
   "source": [
    "n_neuron_arr = np.linspace(1, 200, 200)\n",
    "test_err = []\n",
    "train_err = []\n",
    "for n in n_neuron_arr:\n",
    "    mlp_model = MLPClassifier(alpha = 0.001, hidden_layer_sizes = (int(n),), \n",
    "                              solver = 'lbfgs', activation = 'logistic', random_state = 123)\n",
    "    mlp_model.fit(X_train, y_train)\n",
    "\n",
    "    y_train_pred = mlp_model.predict(X_train)\n",
    "    y_test_pred = mlp_model.predict(X_test)\n",
    "    train_err.append(np.mean(y_train != y_train_pred))\n",
    "    test_err.append(np.mean(y_test != y_test_pred))\n",
    "plt.semilogx(n_neuron_arr, train_err, 'b-o', label = 'test')\n",
    "plt.xlim(200, 0)\n",
    "plt.title('Error vs. n_neuron')\n",
    "plt.xlabel('n_neuron')\n",
    "plt.ylabel('error')\n",
    "plt.legend()"
   ]
  },
  {
   "cell_type": "markdown",
   "metadata": {},
   "source": [
    "Чем больше нейронов, тем лучше точность, но при большом количесве нейронов ошибка начинает \"скакать\", это говорит о непресказуемости выбора кол-ва нейронов из этого промежутка"
   ]
  },
  {
   "cell_type": "markdown",
   "metadata": {},
   "source": [
    "## Посмотрим качество классификатора с подобранными параметрами "
   ]
  },
  {
   "cell_type": "code",
   "execution_count": 110,
   "metadata": {},
   "outputs": [
    {
     "name": "stdout",
     "output_type": "stream",
     "text": [
      "0.0285714285714\n",
      "0.0428571428571\n"
     ]
    }
   ],
   "source": [
    "mlp_model = MLPClassifier(alpha = alpha_opt[0], hidden_layer_sizes = (100,),\n",
    "                          solver = 'lbfgs', activation = 'logistic', random_state = 42)\n",
    "mlp_model.fit(X_train, y_train)\n",
    "\n",
    "y_train_pred = mlp_model.predict(X_train)\n",
    "y_test_pred = mlp_model.predict(X_test)\n",
    "print(np.mean(y_train != y_train_pred))\n",
    "print(np.mean(y_test != y_test_pred))"
   ]
  },
  {
   "cell_type": "code",
   "execution_count": 111,
   "metadata": {},
   "outputs": [
    {
     "name": "stdout",
     "output_type": "stream",
     "text": [
      "[[ 9  0  0  0  0  0  0]\n",
      " [ 0  8  0  0  0  0  1]\n",
      " [ 0  0  7  0  0  0  2]\n",
      " [ 0  0  0 16  0  0  0]\n",
      " [ 0  0  0  0 13  0  0]\n",
      " [ 0  0  0  0  0  8  0]\n",
      " [ 0  0  0  0  0  0  6]]\n"
     ]
    }
   ],
   "source": [
    "print(confusion_matrix(y_test_pred, y_test))"
   ]
  },
  {
   "cell_type": "code",
   "execution_count": 72,
   "metadata": {},
   "outputs": [
    {
     "data": {
      "text/plain": [
       "<matplotlib.colorbar.Colorbar at 0x114bf40d0>"
      ]
     },
     "execution_count": 72,
     "metadata": {},
     "output_type": "execute_result"
    },
    {
     "data": {
      "image/png": "[encoded data removed]",
      "text/plain": [
       "<matplotlib.figure.Figure at 0x1156de050>"
      ]
     },
     "metadata": {},
     "output_type": "display_data"
    }
   ],
   "source": [
    "M = confusion_matrix(y_test_pred, y_test)\n",
    "M = np.sqrt(M)\n",
    "plt.imshow(M, interpolation = 'nearest')\n",
    "plt.set_cmap('binary')\n",
    "plt.xticks(range(7))\n",
    "plt.yticks(range(7))\n",
    "plt.xlabel(\"true label\")\n",
    "plt.ylabel(\"predicted label\")\n",
    "plt.colorbar()"
   ]
  },
  {
   "cell_type": "code",
   "execution_count": 74,
   "metadata": {},
   "outputs": [
    {
     "name": "stdout",
     "output_type": "stream",
     "text": [
      "             precision    recall  f1-score   support\n",
      "\n",
      "  BRICKFACE       1.00      1.00      1.00         9\n",
      "     CEMENT       0.89      1.00      0.94         8\n",
      "    FOLIAGE       0.78      1.00      0.88         7\n",
      "      GRASS       1.00      1.00      1.00        16\n",
      "       PATH       1.00      1.00      1.00        13\n",
      "        SKY       1.00      1.00      1.00         8\n",
      "     WINDOW       1.00      0.67      0.80         9\n",
      "\n",
      "avg / total       0.97      0.96      0.96        70\n",
      "\n"
     ]
    }
   ],
   "source": [
    "from sklearn.metrics import classification_report\n",
    "print(classification_report(y_test, y_test_pred))"
   ]
  },
  {
   "cell_type": "markdown",
   "metadata": {},
   "source": [
    "## Вывод: классификация на 7 классов проходит с очень хорошим уровнем точности (0.96 против 0.14 в случае случайного гадания).  Можно увидеть, что происходят ошибки в классах 'SKY' и 'FOLIAGE', были случаи, когда они были признаны классом 'GRASS', но по факту произошло всего 3 ошибки, что очень хорошо для классификации такогомасштаба. Нейронная сеть справилась с классификацией на 0.02 точности лучше, чем случайный лес."
   ]
  },
  {
   "cell_type": "code",
   "execution_count": null,
   "metadata": {
    "collapsed": true
   },
   "outputs": [],
   "source": []
  }
 ],
 "metadata": {
  "kernelspec": {
   "display_name": "Python 3",
   "language": "python",
   "name": "python3"
  },
  "language_info": {
   "codemirror_mode": {
    "name": "ipython",
    "version": 3
   },
   "file_extension": ".py",
   "mimetype": "text/x-python",
   "name": "python",
   "nbconvert_exporter": "python",
   "pygments_lexer": "ipython3",
   "version": "3.6.2"
  }
 },
 "nbformat": 4,
 "nbformat_minor": 2
}
